{
 "cells": [
  {
   "cell_type": "markdown",
   "id": "0a8831c0",
   "metadata": {},
   "source": [
    "# Анализ временных и географических признаков"
   ]
  },
  {
   "cell_type": "markdown",
   "id": "872fceaf",
   "metadata": {},
   "source": [
    "В данном ноутбуке рассматриваются методы создания и анализа временных и географических признаков, а также обучение модели на основе этих данных."
   ]
  },
  {
   "cell_type": "code",
   "execution_count": null,
   "id": "ff702f74",
   "metadata": {},
   "outputs": [],
   "source": [
    "\n",
    "# Импорт необходимых библиотек\n",
    "import pandas as pd\n",
    "import numpy as np\n",
    "import datetime\n",
    "from sklearn.model_selection import train_test_split\n",
    "import matplotlib.pyplot as plt\n"
   ]
  },
  {
   "cell_type": "markdown",
   "id": "dc27305f",
   "metadata": {},
   "source": [
    "## Загрузка и просмотр данных"
   ]
  },
  {
   "cell_type": "markdown",
   "id": "ebc1cd7d",
   "metadata": {},
   "source": [
    "Сначала создадим тестовый датафрейм с признаками `timestamp`, `latitude`, `longitude`, и `target`."
   ]
  },
  {
   "cell_type": "code",
   "execution_count": null,
   "id": "d6b6cd7f",
   "metadata": {},
   "outputs": [],
   "source": [
    "\n",
    "# Предположим, что у нас есть тестовый датафрейм\n",
    "data = {\n",
    "    'timestamp': pd.date_range('2023-01-01', periods=100, freq='H'),\n",
    "    'latitude': np.random.uniform(50, 60, 100),\n",
    "    'longitude': np.random.uniform(30, 40, 100),\n",
    "    'target': np.random.rand(100)\n",
    "}\n",
    "df = pd.DataFrame(data)\n",
    "df.head()\n"
   ]
  },
  {
   "cell_type": "markdown",
   "id": "e40f973a",
   "metadata": {},
   "source": [
    "## Преобразование временных данных"
   ]
  },
  {
   "cell_type": "markdown",
   "id": "b3ac4f3e",
   "metadata": {},
   "source": [
    "Добавим временные признаки, такие как год, месяц, день, час и день недели. Также создадим циклические признаки для дня недели и часа."
   ]
  },
  {
   "cell_type": "code",
   "execution_count": null,
   "id": "3c601ee1",
   "metadata": {},
   "outputs": [],
   "source": [
    "\n",
    "# Преобразование временных признаков\n",
    "df['year'] = df['timestamp'].dt.year\n",
    "df['month'] = df['timestamp'].dt.month\n",
    "df['day'] = df['timestamp'].dt.day\n",
    "df['hour'] = df['timestamp'].dt.hour\n",
    "df['day_of_week'] = df['timestamp'].dt.dayofweek\n",
    "\n",
    "# Циклическое представление для дня недели и часа\n",
    "df['day_of_week_sin'] = np.sin(2 * np.pi * df['day_of_week'] / 7)\n",
    "df['day_of_week_cos'] = np.cos(2 * np.pi * df['day_of_week'] / 7)\n",
    "df['hour_sin'] = np.sin(2 * np.pi * df['hour'] / 24)\n",
    "df['hour_cos'] = np.cos(2 * np.pi * df['hour'] / 24)\n",
    "\n",
    "# Создание лаговых признаков (например, значение таргета за 1 час назад)\n",
    "df['target_lag_1'] = df['target'].shift(1)\n",
    "df['target_lag_2'] = df['target'].shift(2)\n",
    "df['target_rolling_mean_3'] = df['target'].rolling(window=3).mean()\n",
    "\n",
    "# Удаление строк с NaN (так как некоторые лаги не определены для первых строк)\n",
    "df = df.dropna().reset_index(drop=True)\n",
    "df.head()\n"
   ]
  },
  {
   "cell_type": "markdown",
   "id": "9010b18b",
   "metadata": {},
   "source": [
    "## Преобразование географических данных"
   ]
  },
  {
   "cell_type": "markdown",
   "id": "ad6076eb",
   "metadata": {},
   "source": [
    "Для работы с географическими признаками преобразуем широту и долготу в трехмерное пространство. Также добавим кластеризацию с использованием KMeans для группировки регионов."
   ]
  },
  {
   "cell_type": "code",
   "execution_count": null,
   "id": "0f64e662",
   "metadata": {},
   "outputs": [],
   "source": [
    "\n",
    "# Преобразование географических признаков\n",
    "df['x'] = np.cos(np.radians(df['latitude'])) * np.cos(np.radians(df['longitude']))\n",
    "df['y'] = np.cos(np.radians(df['latitude'])) * np.sin(np.radians(df['longitude']))\n",
    "df['z'] = np.sin(np.radians(df['latitude']))\n",
    "\n",
    "# Пространственная кластеризация (например, KMeans)\n",
    "from sklearn.cluster import KMeans\n",
    "kmeans = KMeans(n_clusters=5, random_state=0).fit(df[['latitude', 'longitude']])\n",
    "df['location_cluster'] = kmeans.labels_\n",
    "\n",
    "df.head()\n"
   ]
  },
  {
   "cell_type": "markdown",
   "id": "cf3bcc61",
   "metadata": {},
   "source": [
    "## Визуализация временных и географических данных"
   ]
  },
  {
   "cell_type": "markdown",
   "id": "dd8f7c36",
   "metadata": {},
   "source": [
    "Построим графики для анализа временной и пространственной информации."
   ]
  },
  {
   "cell_type": "code",
   "execution_count": null,
   "id": "4853738a",
   "metadata": {},
   "outputs": [],
   "source": [
    "\n",
    "import seaborn as sns\n",
    "\n",
    "# Временные циклы\n",
    "plt.figure(figsize=(14,6))\n",
    "sns.lineplot(data=df, x='timestamp', y='target')\n",
    "plt.title('Временная зависимость целевого признака')\n",
    "plt.show()\n",
    "\n",
    "# Географические кластеры\n",
    "plt.figure(figsize=(8,6))\n",
    "sns.scatterplot(data=df, x='longitude', y='latitude', hue='location_cluster', palette='viridis')\n",
    "plt.title('Географические кластеры')\n",
    "plt.show()\n"
   ]
  },
  {
   "cell_type": "markdown",
   "id": "85e79e25",
   "metadata": {},
   "source": [
    "## Подготовка данных для модели"
   ]
  },
  {
   "cell_type": "markdown",
   "id": "508fb2b7",
   "metadata": {},
   "source": [
    "Разделим данные на обучающую и тестовую выборки и обучим модель градиентного бустинга."
   ]
  },
  {
   "cell_type": "code",
   "execution_count": null,
   "id": "db03cadd",
   "metadata": {},
   "outputs": [],
   "source": [
    "\n",
    "# Определение признаков и целевого значения\n",
    "X = df.drop(columns=['timestamp', 'target'])\n",
    "y = df['target']\n",
    "\n",
    "# Разделение данных\n",
    "X_train, X_test, y_train, y_test = train_test_split(X, y, test_size=0.2, random_state=42)\n",
    "\n",
    "# Пример: обучение модели градиентного бустинга\n",
    "from sklearn.ensemble import GradientBoostingRegressor\n",
    "from sklearn.metrics import mean_squared_error\n",
    "\n",
    "model = GradientBoostingRegressor()\n",
    "model.fit(X_train, y_train)\n",
    "\n",
    "# Оценка модели\n",
    "y_pred = model.predict(X_test)\n",
    "rmse = np.sqrt(mean_squared_error(y_test, y_pred))\n",
    "print(f'RMSE модели: {rmse}')\n"
   ]
  },
  {
   "cell_type": "markdown",
   "id": "7fa4cc47",
   "metadata": {},
   "source": [
    "## Анализ важности признаков"
   ]
  },
  {
   "cell_type": "markdown",
   "id": "e6da1382",
   "metadata": {},
   "source": [
    "Посмотрим на важность признаков, чтобы понять, какие из временных и географических признаков оказались наиболее значимыми."
   ]
  },
  {
   "cell_type": "code",
   "execution_count": null,
   "id": "22a0759c",
   "metadata": {},
   "outputs": [],
   "source": [
    "\n",
    "# Важность признаков\n",
    "feature_importance = model.feature_importances_\n",
    "features = X.columns\n",
    "sorted_idx = np.argsort(feature_importance)\n",
    "\n",
    "plt.figure(figsize=(10, 8))\n",
    "plt.barh(range(len(sorted_idx)), feature_importance[sorted_idx], align='center')\n",
    "plt.yticks(range(len(sorted_idx)), features[sorted_idx])\n",
    "plt.title('Важность признаков')\n",
    "plt.show()\n"
   ]
  }
 ],
 "metadata": {},
 "nbformat": 4,
 "nbformat_minor": 5
}
