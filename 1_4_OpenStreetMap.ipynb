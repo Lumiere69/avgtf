{
  "nbformat": 4,
  "nbformat_minor": 0,
  "metadata": {
    "colab": {
      "provenance": [],
      "collapsed_sections": [
        "I6vKevtFm-jB",
        "4thOT-e6iFNy"
      ]
    },
    "kernelspec": {
      "name": "python3",
      "display_name": "Python 3"
    },
    "language_info": {
      "name": "python"
    }
  },
  "cells": [
    {
      "cell_type": "markdown",
      "source": [
        "# Введение\n",
        "В данном ноутбуке собраны все материалы из главы 1.4 OpenStreetMap из курса \"Геопространственный анализ данных\". Рассматриваются методы загрузки данных с OpenStreetMap"
      ],
      "metadata": {
        "id": "pmBeN-Y8ltve"
      }
    },
    {
      "cell_type": "code",
      "source": [
        "!pip -q install overpass overpy"
      ],
      "metadata": {
        "id": "TM9fGB-bOENi"
      },
      "execution_count": null,
      "outputs": []
    },
    {
      "cell_type": "markdown",
      "source": [
        "# OverPass API"
      ],
      "metadata": {
        "id": "I6vKevtFm-jB"
      }
    },
    {
      "cell_type": "code",
      "source": [
        "# Необходимые импорты\n",
        "import numpy as np\n",
        "import requests\n",
        "import overpass\n",
        "import overpy\n",
        "from requests.exceptions import RequestException, Timeout"
      ],
      "metadata": {
        "id": "pa6zVHwjOk1F"
      },
      "execution_count": null,
      "outputs": []
    },
    {
      "cell_type": "markdown",
      "source": [
        "## Через request"
      ],
      "metadata": {
        "id": "Ct3s5vQkOXwG"
      }
    },
    {
      "cell_type": "markdown",
      "source": [
        "Пример запросов напрямую через `requests`"
      ],
      "metadata": {
        "id": "3CgVQHDqN1Jz"
      }
    },
    {
      "cell_type": "markdown",
      "source": [
        "В качестве запроса будем находить количество заведений типа кафе вокруг 1500м от точки с координатами 56.15962, 38.87188, которая находится в городе Киржач, Владимирской области."
      ],
      "metadata": {
        "id": "GFr6OmDQP5__"
      }
    },
    {
      "cell_type": "code",
      "source": [
        "# Необходимые импорты\n",
        "import numpy as np\n",
        "import requests\n",
        "from requests.exceptions import RequestException, Timeout\n",
        "\n",
        "def get_count_cafe_around_point(latitude, longitude, radius):\n",
        "\n",
        "    # URL сервисов\n",
        "    # overpass_url = \"https://overpass-api.de/api/interpreter\"\n",
        "    overpass_url = \"https://maps.mail.ru/osm/tools/overpass/api/interpreter\"\n",
        "\n",
        "    # Формируем запрос overpass\n",
        "    # вывод в формате json\n",
        "    # ищем все точки, линии, отношения, у которых есть тег \"amenity\"=\"cafe\"\n",
        "    # в радиусе radius от точки с координатами (latitude,longitude)\n",
        "    # в выводе просим указать количество\n",
        "    overpass_query = f\"\"\"\n",
        "    [out:json][timeout:25];\n",
        "    nwr[\"amenity\"=\"cafe\"](around:{radius},{latitude},{longitude});\n",
        "    out count;\n",
        "    \"\"\"\n",
        "\n",
        "    try:\n",
        "        # отправляем запрос\n",
        "        response = requests.get(overpass_url, params={'data': overpass_query})\n",
        "        response.raise_for_status()\n",
        "        data = response.json()\n",
        "        # выбираем нужное значение\n",
        "        if 'elements' in data:\n",
        "            for element in data['elements']:\n",
        "                if 'tags' in element:\n",
        "                    for key, value in element['tags'].items():\n",
        "                        if key == 'total':\n",
        "                            return value\n",
        "\n",
        "        # Если нет тега total, или вообще нет тегов\n",
        "        return np.NaN\n",
        "\n",
        "    # обработки ошибок\n",
        "    except RequestException as e:\n",
        "        print(f\"RequestException: {e}\")\n",
        "        return np.NaN\n",
        "    except Timeout:\n",
        "        print(\"Request timed out.\")\n",
        "        return np.NaN\n",
        "    except Exception as e:\n",
        "        print(f\"An error occurred: {e}\")\n",
        "        return np.NaN\n",
        "\n",
        "# Пример\n",
        "coords = (56.15962, 38.87188) # город Киржач\n",
        "radius = 1500 # в метрах\n",
        "\n",
        "result = get_count_cafe_around_point(coords[0], coords[1], radius)\n",
        "print(f'В радиусе {radius} м от точки {coords} находится {result} кафе')"
      ],
      "metadata": {
        "id": "VjXWw0Lo9KoI",
        "colab": {
          "base_uri": "https://localhost:8080/"
        },
        "outputId": "8a548e06-ec97-4b15-f24d-4dde1c225c66"
      },
      "execution_count": null,
      "outputs": [
        {
          "output_type": "stream",
          "name": "stdout",
          "text": [
            "В радиусе 1500 м от точки (56.15962, 38.87188) находится 8 кафе\n"
          ]
        }
      ]
    },
    {
      "cell_type": "markdown",
      "source": [
        "## Через overpy"
      ],
      "metadata": {
        "id": "irNcSUZY6ljA"
      }
    },
    {
      "cell_type": "markdown",
      "source": [
        "Существуют различные обертки для Overpass API, попробуем парочку из них"
      ],
      "metadata": {
        "id": "0_xXOmK26qoX"
      }
    },
    {
      "cell_type": "code",
      "source": [
        "import overpy\n",
        "\n",
        "# Аналогично запросу через  requests, сначала указываем куда слать запрос\n",
        "overpass_url = \"https://maps.mail.ru/osm/tools/overpass/api/interpreter\"\n",
        "api = overpy.Overpass(url=overpass_url)\n",
        "\n",
        "# Затем сам запрос пишем\n",
        "result = api.query(\"\"\"\n",
        "    [out:json][timeout:25];\n",
        "    nwr[\"amenity\"=\"cafe\"](around:1500, 56.15962, 38.87188);\n",
        "    out;\n",
        "    \"\"\")\n",
        "\n",
        "# данная обертка не умеет выводить общее количество, поэтому руками считаем\n",
        "# общее количество\n",
        "count_result = len(result.ways) + len(result.nodes) + len(result.areas)\n",
        "print(f'В радиусе 1500 м от точки 56.15962, 38.87188 находится {count_result} кафе')\n",
        "# строка разделитель\n",
        "print('***'*20)\n",
        "\n",
        "# Дополнительно вывыдем всю возможную информацию с помощью данной обертки\n",
        "for point in result.nodes:\n",
        "    print(f'Point ID={point.id}, tags={point.tags}, lat={point.lat}, lon={point.lon}')"
      ],
      "metadata": {
        "colab": {
          "base_uri": "https://localhost:8080/"
        },
        "id": "0p8P_i7b6qPz",
        "outputId": "e3b03492-6ca8-4245-bb2d-2a9cf590171d"
      },
      "execution_count": null,
      "outputs": [
        {
          "output_type": "stream",
          "name": "stdout",
          "text": [
            "В радиусе 1500 м от точки 56.15962, 38.87188 находится 8 кафе\n",
            "************************************************************\n",
            "Point ID=2701046998, tags={'amenity': 'cafe', 'name': 'Аида'}, lat=56.1615826, lon=38.8728146\n",
            "Point ID=6690633237, tags={'amenity': 'cafe', 'contact:email': 'horeca@33pingvina.ru', 'contact:phone': '+7 800 1005033', 'contact:website': 'https://33pingvina.ru/', 'cuisine': 'ice_cream', 'name': '33 пингвина', 'opening_hours': 'Mo-Su 09:00-19:00', 'operator': 'Интеропт', 'shop': 'ice_cream'}, lat=56.1624110, lon=38.8716120\n",
            "Point ID=6743529274, tags={'amenity': 'cafe', 'name': 'Лакомка'}, lat=56.1525794, lon=38.8518852\n",
            "Point ID=6798201569, tags={'amenity': 'cafe', 'contact:phone': '+7 916 5780664', 'name': 'Столовая', 'opening_hours': 'Mo-Su 09:00-20:00'}, lat=56.1630449, lon=38.8713751\n",
            "Point ID=10757580248, tags={'amenity': 'cafe', 'contact:phone': '+7 49237 29602', 'contact:vk': 'https://vk.com/diana_official_page', 'contact:vk2': 'https://vk.com/market-66180628', 'name': 'Диана', 'opening_hours': 'Mo-Su 10:00-22:00', 'takeaway': 'yes'}, lat=56.1537706, lon=38.8542290\n",
            "Point ID=11170704998, tags={'amenity': 'cafe', 'contact:phone': '+7 965 2292000', 'name': 'Адмирал', 'takeaway': 'yes'}, lat=56.1719687, lon=38.8662493\n",
            "Point ID=11353602993, tags={'amenity': 'cafe', 'contact:phone': '+7 960 7330055', 'name': 'Подвальчик', 'opening_hours': 'Mo-Th 09:00-18:00; Fr-Su 09:00-20:00'}, lat=56.1619518, lon=38.8735986\n"
          ]
        }
      ]
    },
    {
      "cell_type": "markdown",
      "source": [
        "## Через overpass"
      ],
      "metadata": {
        "id": "MTEaP81l6ri1"
      }
    },
    {
      "cell_type": "code",
      "source": [
        "# импортируем другую обертку\n",
        "import overpass\n",
        "# указыавем куда слать запросы\n",
        "api = overpass.API(endpoint=overpass_url)\n",
        "\n",
        "# сам запрос, обратите внимание в данном инструменте, формат вывода указывается\n",
        "# через responseformat, а результаты вывода можно указать через verbosity\n",
        "response = api.get('nwr[\"amenity\"=\"cafe\"](around:1500, 56.15962, 38.87188)',\n",
        "                   responseformat=\"json\",\n",
        "                   verbosity='count')\n",
        "# Выводится аналогично получению ответа через requests\n",
        "response"
      ],
      "metadata": {
        "colab": {
          "base_uri": "https://localhost:8080/"
        },
        "id": "7mysUgcP6ri2",
        "outputId": "cf1eac13-d08e-47ca-8f1e-41b1597ffafc"
      },
      "execution_count": null,
      "outputs": [
        {
          "output_type": "execute_result",
          "data": {
            "text/plain": [
              "{'version': 0.6,\n",
              " 'generator': 'Overpass API 0.7.57.1 74a55df1',\n",
              " 'osm3s': {'timestamp_osm_base': '2024-03-24T13:08:25Z',\n",
              "  'copyright': 'The data included in this document is from www.openstreetmap.org. The data is made available under ODbL.'},\n",
              " 'elements': [{'type': 'count',\n",
              "   'id': 0,\n",
              "   'tags': {'nodes': '7', 'ways': '1', 'relations': '0', 'total': '8'}}]}"
            ]
          },
          "metadata": {},
          "execution_count": 5
        }
      ]
    },
    {
      "cell_type": "code",
      "source": [
        "# поэтому выбираем нужное нам значение\n",
        "if 'elements' in response:\n",
        "    for element in response['elements']:\n",
        "        if 'tags' in element:\n",
        "            for key, value in element['tags'].items():\n",
        "                if key == 'total':\n",
        "                    result = value\n",
        "print(f'В радиусе 1500 м от точки 56.15962, 38.87188 находится {result} кафе')"
      ],
      "metadata": {
        "colab": {
          "base_uri": "https://localhost:8080/"
        },
        "id": "gzFBGkw-NNFT",
        "outputId": "ece8a0c0-20e9-4254-d53a-33fa0f0091e7"
      },
      "execution_count": null,
      "outputs": [
        {
          "output_type": "stream",
          "name": "stdout",
          "text": [
            "В радиусе 1500 м от точки 56.15962, 38.87188 находится 8 кафе\n"
          ]
        }
      ]
    },
    {
      "cell_type": "markdown",
      "source": [
        "# OSMnx"
      ],
      "metadata": {
        "id": "4thOT-e6iFNy"
      }
    },
    {
      "cell_type": "markdown",
      "source": [
        "Установка и импорт библиотеки"
      ],
      "metadata": {
        "id": "sBHWjniiawQ9"
      }
    },
    {
      "cell_type": "code",
      "source": [
        "# Установка и импорт библиотеки\n",
        "!pip -q install osmnx\n",
        "import osmnx as ox"
      ],
      "metadata": {
        "colab": {
          "base_uri": "https://localhost:8080/"
        },
        "id": "EbC9ZlnXYJ2E",
        "outputId": "31dff0be-514e-4b4a-b9b8-eca8f4cc0d23"
      },
      "execution_count": null,
      "outputs": [
        {
          "output_type": "stream",
          "name": "stdout",
          "text": [
            "\u001b[?25l     \u001b[90m━━━━━━━━━━━━━━━━━━━━━━━━━━━━━━━━━━━━━━━━\u001b[0m \u001b[32m0.0/104.3 kB\u001b[0m \u001b[31m?\u001b[0m eta \u001b[36m-:--:--\u001b[0m\r\u001b[2K     \u001b[91m━━━━━━━━━━━━━━━━━━━━━━━━━━━\u001b[0m\u001b[90m╺\u001b[0m\u001b[90m━━━━━━━━━━━━\u001b[0m \u001b[32m71.7/104.3 kB\u001b[0m \u001b[31m2.0 MB/s\u001b[0m eta \u001b[36m0:00:01\u001b[0m\r\u001b[2K     \u001b[90m━━━━━━━━━━━━━━━━━━━━━━━━━━━━━━━━━━━━━━━━\u001b[0m \u001b[32m104.3/104.3 kB\u001b[0m \u001b[31m2.1 MB/s\u001b[0m eta \u001b[36m0:00:00\u001b[0m\n",
            "\u001b[?25h"
          ]
        }
      ]
    },
    {
      "cell_type": "code",
      "source": [
        "# город Киржач\n",
        "coords = (56.15962, 38.87188)\n",
        "# Теги, которые нам нужны, если нужна вся категория, то можно передать\n",
        "# 'amenity':True\n",
        "tags = {'amenity':['cafe']}\n",
        "dist = 1500 # в метрах\n",
        "\n",
        "features = ox.features.features_from_point(coords, tags, radius)\n",
        "result = len(features)\n",
        "print(f'В пределах квадрата со стороной {dist*2} м с центром в точке {coords} находится {result} кафе')"
      ],
      "metadata": {
        "id": "TbyCek2biFNy",
        "colab": {
          "base_uri": "https://localhost:8080/"
        },
        "outputId": "00b15ba4-7a3e-470d-b8e2-f492d3fb0316"
      },
      "execution_count": null,
      "outputs": [
        {
          "output_type": "stream",
          "name": "stdout",
          "text": [
            "В пределах квадрата со стороной 3000 м с центром в точке (56.15962, 38.87188) находится 10 кафе\n"
          ]
        }
      ]
    },
    {
      "cell_type": "code",
      "source": [
        "features.head()"
      ],
      "metadata": {
        "colab": {
          "base_uri": "https://localhost:8080/"
        },
        "id": "54_jlZD1XVX9",
        "outputId": "0a538e42-f09b-4082-8495-cd964d6bd33b"
      },
      "execution_count": null,
      "outputs": [
        {
          "output_type": "stream",
          "name": "stderr",
          "text": [
            "/usr/local/lib/python3.10/dist-packages/ipykernel/ipkernel.py:283: DeprecationWarning: `should_run_async` will not call `transform_cell` automatically in the future. Please pass the result to `transformed_cell` argument and any exception that happen during thetransform in `preprocessing_exc_tuple` in IPython 7.17 and above.\n",
            "  and should_run_async(code)\n",
            "<frozen importlib._bootstrap>:914: ImportWarning: _PyDrive2ImportHook.find_spec() not found; falling back to find_module()\n",
            "<frozen importlib._bootstrap>:914: ImportWarning: _PyDriveImportHook.find_spec() not found; falling back to find_module()\n",
            "<frozen importlib._bootstrap>:914: ImportWarning: _GenerativeAIImportHook.find_spec() not found; falling back to find_module()\n",
            "<frozen importlib._bootstrap>:914: ImportWarning: _OpenCVImportHook.find_spec() not found; falling back to find_module()\n",
            "<frozen importlib._bootstrap>:914: ImportWarning: APICoreClientInfoImportHook.find_spec() not found; falling back to find_module()\n",
            "<frozen importlib._bootstrap>:914: ImportWarning: _BokehImportHook.find_spec() not found; falling back to find_module()\n",
            "<frozen importlib._bootstrap>:914: ImportWarning: _AltairImportHook.find_spec() not found; falling back to find_module()\n",
            "<frozen importlib._bootstrap>:914: ImportWarning: _PyDrive2ImportHook.find_spec() not found; falling back to find_module()\n",
            "<frozen importlib._bootstrap>:914: ImportWarning: _PyDriveImportHook.find_spec() not found; falling back to find_module()\n",
            "<frozen importlib._bootstrap>:914: ImportWarning: _GenerativeAIImportHook.find_spec() not found; falling back to find_module()\n",
            "<frozen importlib._bootstrap>:914: ImportWarning: _OpenCVImportHook.find_spec() not found; falling back to find_module()\n",
            "<frozen importlib._bootstrap>:914: ImportWarning: APICoreClientInfoImportHook.find_spec() not found; falling back to find_module()\n",
            "<frozen importlib._bootstrap>:914: ImportWarning: _BokehImportHook.find_spec() not found; falling back to find_module()\n",
            "<frozen importlib._bootstrap>:914: ImportWarning: _AltairImportHook.find_spec() not found; falling back to find_module()\n"
          ]
        },
        {
          "output_type": "execute_result",
          "data": {
            "text/plain": [
              "                        amenity   contact:phone                contact:vk  \\\n",
              "element_type osmid                                                          \n",
              "node         1827315019    cafe  +7 960 7224606  https://vk.com/cafeglobe   \n",
              "             2701046998    cafe             NaN                       NaN   \n",
              "             6690633237    cafe  +7 800 1005033                       NaN   \n",
              "             6743529274    cafe             NaN                       NaN   \n",
              "             6798201569    cafe  +7 916 5780664                       NaN   \n",
              "\n",
              "                                contact:website delivery         name  \\\n",
              "element_type osmid                                                      \n",
              "node         1827315019        www.kafe-glob.ru      yes         Глоб   \n",
              "             2701046998                     NaN      NaN         Аида   \n",
              "             6690633237  https://33pingvina.ru/      NaN  33 пингвина   \n",
              "             6743529274                     NaN      NaN      Лакомка   \n",
              "             6798201569                     NaN      NaN     Столовая   \n",
              "\n",
              "                             opening_hours                   geometry  \\\n",
              "element_type osmid                                                      \n",
              "node         1827315019  Mo-Su 10:00-24:00  POINT (38.84813 56.14846)   \n",
              "             2701046998                NaN  POINT (38.87281 56.16158)   \n",
              "             6690633237  Mo-Su 09:00-19:00  POINT (38.87161 56.16241)   \n",
              "             6743529274                NaN  POINT (38.85189 56.15258)   \n",
              "             6798201569  Mo-Su 09:00-20:00  POINT (38.87138 56.16304)   \n",
              "\n",
              "                                contact:email    cuisine  operator       shop  \\\n",
              "element_type osmid                                                              \n",
              "node         1827315019                   NaN        NaN       NaN        NaN   \n",
              "             2701046998                   NaN        NaN       NaN        NaN   \n",
              "             6690633237  horeca@33pingvina.ru  ice_cream  Интеропт  ice_cream   \n",
              "             6743529274                   NaN        NaN       NaN        NaN   \n",
              "             6798201569                   NaN        NaN       NaN        NaN   \n",
              "\n",
              "                        contact:vk2 takeaway nodes addr:housenumber  \\\n",
              "element_type osmid                                                    \n",
              "node         1827315019         NaN      NaN   NaN              NaN   \n",
              "             2701046998         NaN      NaN   NaN              NaN   \n",
              "             6690633237         NaN      NaN   NaN              NaN   \n",
              "             6743529274         NaN      NaN   NaN              NaN   \n",
              "             6798201569         NaN      NaN   NaN              NaN   \n",
              "\n",
              "                        addr:street building  \n",
              "element_type osmid                            \n",
              "node         1827315019         NaN      NaN  \n",
              "             2701046998         NaN      NaN  \n",
              "             6690633237         NaN      NaN  \n",
              "             6743529274         NaN      NaN  \n",
              "             6798201569         NaN      NaN  "
            ],
            "text/html": [
              "\n",
              "  <div id=\"df-f49da037-424e-4379-bc41-72c8063d1187\" class=\"colab-df-container\">\n",
              "    <div>\n",
              "<style scoped>\n",
              "    .dataframe tbody tr th:only-of-type {\n",
              "        vertical-align: middle;\n",
              "    }\n",
              "\n",
              "    .dataframe tbody tr th {\n",
              "        vertical-align: top;\n",
              "    }\n",
              "\n",
              "    .dataframe thead th {\n",
              "        text-align: right;\n",
              "    }\n",
              "</style>\n",
              "<table border=\"1\" class=\"dataframe\">\n",
              "  <thead>\n",
              "    <tr style=\"text-align: right;\">\n",
              "      <th></th>\n",
              "      <th></th>\n",
              "      <th>amenity</th>\n",
              "      <th>contact:phone</th>\n",
              "      <th>contact:vk</th>\n",
              "      <th>contact:website</th>\n",
              "      <th>delivery</th>\n",
              "      <th>name</th>\n",
              "      <th>opening_hours</th>\n",
              "      <th>geometry</th>\n",
              "      <th>contact:email</th>\n",
              "      <th>cuisine</th>\n",
              "      <th>operator</th>\n",
              "      <th>shop</th>\n",
              "      <th>contact:vk2</th>\n",
              "      <th>takeaway</th>\n",
              "      <th>nodes</th>\n",
              "      <th>addr:housenumber</th>\n",
              "      <th>addr:street</th>\n",
              "      <th>building</th>\n",
              "    </tr>\n",
              "    <tr>\n",
              "      <th>element_type</th>\n",
              "      <th>osmid</th>\n",
              "      <th></th>\n",
              "      <th></th>\n",
              "      <th></th>\n",
              "      <th></th>\n",
              "      <th></th>\n",
              "      <th></th>\n",
              "      <th></th>\n",
              "      <th></th>\n",
              "      <th></th>\n",
              "      <th></th>\n",
              "      <th></th>\n",
              "      <th></th>\n",
              "      <th></th>\n",
              "      <th></th>\n",
              "      <th></th>\n",
              "      <th></th>\n",
              "      <th></th>\n",
              "      <th></th>\n",
              "    </tr>\n",
              "  </thead>\n",
              "  <tbody>\n",
              "    <tr>\n",
              "      <th rowspan=\"5\" valign=\"top\">node</th>\n",
              "      <th>1827315019</th>\n",
              "      <td>cafe</td>\n",
              "      <td>+7 960 7224606</td>\n",
              "      <td>https://vk.com/cafeglobe</td>\n",
              "      <td>www.kafe-glob.ru</td>\n",
              "      <td>yes</td>\n",
              "      <td>Глоб</td>\n",
              "      <td>Mo-Su 10:00-24:00</td>\n",
              "      <td>POINT (38.84813 56.14846)</td>\n",
              "      <td>NaN</td>\n",
              "      <td>NaN</td>\n",
              "      <td>NaN</td>\n",
              "      <td>NaN</td>\n",
              "      <td>NaN</td>\n",
              "      <td>NaN</td>\n",
              "      <td>NaN</td>\n",
              "      <td>NaN</td>\n",
              "      <td>NaN</td>\n",
              "      <td>NaN</td>\n",
              "    </tr>\n",
              "    <tr>\n",
              "      <th>2701046998</th>\n",
              "      <td>cafe</td>\n",
              "      <td>NaN</td>\n",
              "      <td>NaN</td>\n",
              "      <td>NaN</td>\n",
              "      <td>NaN</td>\n",
              "      <td>Аида</td>\n",
              "      <td>NaN</td>\n",
              "      <td>POINT (38.87281 56.16158)</td>\n",
              "      <td>NaN</td>\n",
              "      <td>NaN</td>\n",
              "      <td>NaN</td>\n",
              "      <td>NaN</td>\n",
              "      <td>NaN</td>\n",
              "      <td>NaN</td>\n",
              "      <td>NaN</td>\n",
              "      <td>NaN</td>\n",
              "      <td>NaN</td>\n",
              "      <td>NaN</td>\n",
              "    </tr>\n",
              "    <tr>\n",
              "      <th>6690633237</th>\n",
              "      <td>cafe</td>\n",
              "      <td>+7 800 1005033</td>\n",
              "      <td>NaN</td>\n",
              "      <td>https://33pingvina.ru/</td>\n",
              "      <td>NaN</td>\n",
              "      <td>33 пингвина</td>\n",
              "      <td>Mo-Su 09:00-19:00</td>\n",
              "      <td>POINT (38.87161 56.16241)</td>\n",
              "      <td>horeca@33pingvina.ru</td>\n",
              "      <td>ice_cream</td>\n",
              "      <td>Интеропт</td>\n",
              "      <td>ice_cream</td>\n",
              "      <td>NaN</td>\n",
              "      <td>NaN</td>\n",
              "      <td>NaN</td>\n",
              "      <td>NaN</td>\n",
              "      <td>NaN</td>\n",
              "      <td>NaN</td>\n",
              "    </tr>\n",
              "    <tr>\n",
              "      <th>6743529274</th>\n",
              "      <td>cafe</td>\n",
              "      <td>NaN</td>\n",
              "      <td>NaN</td>\n",
              "      <td>NaN</td>\n",
              "      <td>NaN</td>\n",
              "      <td>Лакомка</td>\n",
              "      <td>NaN</td>\n",
              "      <td>POINT (38.85189 56.15258)</td>\n",
              "      <td>NaN</td>\n",
              "      <td>NaN</td>\n",
              "      <td>NaN</td>\n",
              "      <td>NaN</td>\n",
              "      <td>NaN</td>\n",
              "      <td>NaN</td>\n",
              "      <td>NaN</td>\n",
              "      <td>NaN</td>\n",
              "      <td>NaN</td>\n",
              "      <td>NaN</td>\n",
              "    </tr>\n",
              "    <tr>\n",
              "      <th>6798201569</th>\n",
              "      <td>cafe</td>\n",
              "      <td>+7 916 5780664</td>\n",
              "      <td>NaN</td>\n",
              "      <td>NaN</td>\n",
              "      <td>NaN</td>\n",
              "      <td>Столовая</td>\n",
              "      <td>Mo-Su 09:00-20:00</td>\n",
              "      <td>POINT (38.87138 56.16304)</td>\n",
              "      <td>NaN</td>\n",
              "      <td>NaN</td>\n",
              "      <td>NaN</td>\n",
              "      <td>NaN</td>\n",
              "      <td>NaN</td>\n",
              "      <td>NaN</td>\n",
              "      <td>NaN</td>\n",
              "      <td>NaN</td>\n",
              "      <td>NaN</td>\n",
              "      <td>NaN</td>\n",
              "    </tr>\n",
              "  </tbody>\n",
              "</table>\n",
              "</div>\n",
              "    <div class=\"colab-df-buttons\">\n",
              "\n",
              "  <div class=\"colab-df-container\">\n",
              "    <button class=\"colab-df-convert\" onclick=\"convertToInteractive('df-f49da037-424e-4379-bc41-72c8063d1187')\"\n",
              "            title=\"Convert this dataframe to an interactive table.\"\n",
              "            style=\"display:none;\">\n",
              "\n",
              "  <svg xmlns=\"http://www.w3.org/2000/svg\" height=\"24px\" viewBox=\"0 -960 960 960\">\n",
              "    <path d=\"M120-120v-720h720v720H120Zm60-500h600v-160H180v160Zm220 220h160v-160H400v160Zm0 220h160v-160H400v160ZM180-400h160v-160H180v160Zm440 0h160v-160H620v160ZM180-180h160v-160H180v160Zm440 0h160v-160H620v160Z\"/>\n",
              "  </svg>\n",
              "    </button>\n",
              "\n",
              "  <style>\n",
              "    .colab-df-container {\n",
              "      display:flex;\n",
              "      gap: 12px;\n",
              "    }\n",
              "\n",
              "    .colab-df-convert {\n",
              "      background-color: #E8F0FE;\n",
              "      border: none;\n",
              "      border-radius: 50%;\n",
              "      cursor: pointer;\n",
              "      display: none;\n",
              "      fill: #1967D2;\n",
              "      height: 32px;\n",
              "      padding: 0 0 0 0;\n",
              "      width: 32px;\n",
              "    }\n",
              "\n",
              "    .colab-df-convert:hover {\n",
              "      background-color: #E2EBFA;\n",
              "      box-shadow: 0px 1px 2px rgba(60, 64, 67, 0.3), 0px 1px 3px 1px rgba(60, 64, 67, 0.15);\n",
              "      fill: #174EA6;\n",
              "    }\n",
              "\n",
              "    .colab-df-buttons div {\n",
              "      margin-bottom: 4px;\n",
              "    }\n",
              "\n",
              "    [theme=dark] .colab-df-convert {\n",
              "      background-color: #3B4455;\n",
              "      fill: #D2E3FC;\n",
              "    }\n",
              "\n",
              "    [theme=dark] .colab-df-convert:hover {\n",
              "      background-color: #434B5C;\n",
              "      box-shadow: 0px 1px 3px 1px rgba(0, 0, 0, 0.15);\n",
              "      filter: drop-shadow(0px 1px 2px rgba(0, 0, 0, 0.3));\n",
              "      fill: #FFFFFF;\n",
              "    }\n",
              "  </style>\n",
              "\n",
              "    <script>\n",
              "      const buttonEl =\n",
              "        document.querySelector('#df-f49da037-424e-4379-bc41-72c8063d1187 button.colab-df-convert');\n",
              "      buttonEl.style.display =\n",
              "        google.colab.kernel.accessAllowed ? 'block' : 'none';\n",
              "\n",
              "      async function convertToInteractive(key) {\n",
              "        const element = document.querySelector('#df-f49da037-424e-4379-bc41-72c8063d1187');\n",
              "        const dataTable =\n",
              "          await google.colab.kernel.invokeFunction('convertToInteractive',\n",
              "                                                    [key], {});\n",
              "        if (!dataTable) return;\n",
              "\n",
              "        const docLinkHtml = 'Like what you see? Visit the ' +\n",
              "          '<a target=\"_blank\" href=https://colab.research.google.com/notebooks/data_table.ipynb>data table notebook</a>'\n",
              "          + ' to learn more about interactive tables.';\n",
              "        element.innerHTML = '';\n",
              "        dataTable['output_type'] = 'display_data';\n",
              "        await google.colab.output.renderOutput(dataTable, element);\n",
              "        const docLink = document.createElement('div');\n",
              "        docLink.innerHTML = docLinkHtml;\n",
              "        element.appendChild(docLink);\n",
              "      }\n",
              "    </script>\n",
              "  </div>\n",
              "\n",
              "\n",
              "<div id=\"df-a2cc73a5-2cc6-4f0f-a810-e00a11dc9f6d\">\n",
              "  <button class=\"colab-df-quickchart\" onclick=\"quickchart('df-a2cc73a5-2cc6-4f0f-a810-e00a11dc9f6d')\"\n",
              "            title=\"Suggest charts\"\n",
              "            style=\"display:none;\">\n",
              "\n",
              "<svg xmlns=\"http://www.w3.org/2000/svg\" height=\"24px\"viewBox=\"0 0 24 24\"\n",
              "     width=\"24px\">\n",
              "    <g>\n",
              "        <path d=\"M19 3H5c-1.1 0-2 .9-2 2v14c0 1.1.9 2 2 2h14c1.1 0 2-.9 2-2V5c0-1.1-.9-2-2-2zM9 17H7v-7h2v7zm4 0h-2V7h2v10zm4 0h-2v-4h2v4z\"/>\n",
              "    </g>\n",
              "</svg>\n",
              "  </button>\n",
              "\n",
              "<style>\n",
              "  .colab-df-quickchart {\n",
              "      --bg-color: #E8F0FE;\n",
              "      --fill-color: #1967D2;\n",
              "      --hover-bg-color: #E2EBFA;\n",
              "      --hover-fill-color: #174EA6;\n",
              "      --disabled-fill-color: #AAA;\n",
              "      --disabled-bg-color: #DDD;\n",
              "  }\n",
              "\n",
              "  [theme=dark] .colab-df-quickchart {\n",
              "      --bg-color: #3B4455;\n",
              "      --fill-color: #D2E3FC;\n",
              "      --hover-bg-color: #434B5C;\n",
              "      --hover-fill-color: #FFFFFF;\n",
              "      --disabled-bg-color: #3B4455;\n",
              "      --disabled-fill-color: #666;\n",
              "  }\n",
              "\n",
              "  .colab-df-quickchart {\n",
              "    background-color: var(--bg-color);\n",
              "    border: none;\n",
              "    border-radius: 50%;\n",
              "    cursor: pointer;\n",
              "    display: none;\n",
              "    fill: var(--fill-color);\n",
              "    height: 32px;\n",
              "    padding: 0;\n",
              "    width: 32px;\n",
              "  }\n",
              "\n",
              "  .colab-df-quickchart:hover {\n",
              "    background-color: var(--hover-bg-color);\n",
              "    box-shadow: 0 1px 2px rgba(60, 64, 67, 0.3), 0 1px 3px 1px rgba(60, 64, 67, 0.15);\n",
              "    fill: var(--button-hover-fill-color);\n",
              "  }\n",
              "\n",
              "  .colab-df-quickchart-complete:disabled,\n",
              "  .colab-df-quickchart-complete:disabled:hover {\n",
              "    background-color: var(--disabled-bg-color);\n",
              "    fill: var(--disabled-fill-color);\n",
              "    box-shadow: none;\n",
              "  }\n",
              "\n",
              "  .colab-df-spinner {\n",
              "    border: 2px solid var(--fill-color);\n",
              "    border-color: transparent;\n",
              "    border-bottom-color: var(--fill-color);\n",
              "    animation:\n",
              "      spin 1s steps(1) infinite;\n",
              "  }\n",
              "\n",
              "  @keyframes spin {\n",
              "    0% {\n",
              "      border-color: transparent;\n",
              "      border-bottom-color: var(--fill-color);\n",
              "      border-left-color: var(--fill-color);\n",
              "    }\n",
              "    20% {\n",
              "      border-color: transparent;\n",
              "      border-left-color: var(--fill-color);\n",
              "      border-top-color: var(--fill-color);\n",
              "    }\n",
              "    30% {\n",
              "      border-color: transparent;\n",
              "      border-left-color: var(--fill-color);\n",
              "      border-top-color: var(--fill-color);\n",
              "      border-right-color: var(--fill-color);\n",
              "    }\n",
              "    40% {\n",
              "      border-color: transparent;\n",
              "      border-right-color: var(--fill-color);\n",
              "      border-top-color: var(--fill-color);\n",
              "    }\n",
              "    60% {\n",
              "      border-color: transparent;\n",
              "      border-right-color: var(--fill-color);\n",
              "    }\n",
              "    80% {\n",
              "      border-color: transparent;\n",
              "      border-right-color: var(--fill-color);\n",
              "      border-bottom-color: var(--fill-color);\n",
              "    }\n",
              "    90% {\n",
              "      border-color: transparent;\n",
              "      border-bottom-color: var(--fill-color);\n",
              "    }\n",
              "  }\n",
              "</style>\n",
              "\n",
              "  <script>\n",
              "    async function quickchart(key) {\n",
              "      const quickchartButtonEl =\n",
              "        document.querySelector('#' + key + ' button');\n",
              "      quickchartButtonEl.disabled = true;  // To prevent multiple clicks.\n",
              "      quickchartButtonEl.classList.add('colab-df-spinner');\n",
              "      try {\n",
              "        const charts = await google.colab.kernel.invokeFunction(\n",
              "            'suggestCharts', [key], {});\n",
              "      } catch (error) {\n",
              "        console.error('Error during call to suggestCharts:', error);\n",
              "      }\n",
              "      quickchartButtonEl.classList.remove('colab-df-spinner');\n",
              "      quickchartButtonEl.classList.add('colab-df-quickchart-complete');\n",
              "    }\n",
              "    (() => {\n",
              "      let quickchartButtonEl =\n",
              "        document.querySelector('#df-a2cc73a5-2cc6-4f0f-a810-e00a11dc9f6d button');\n",
              "      quickchartButtonEl.style.display =\n",
              "        google.colab.kernel.accessAllowed ? 'block' : 'none';\n",
              "    })();\n",
              "  </script>\n",
              "</div>\n",
              "    </div>\n",
              "  </div>\n"
            ],
            "application/vnd.google.colaboratory.intrinsic+json": {
              "type": "dataframe",
              "variable_name": "features",
              "summary": "{\n  \"name\": \"features\",\n  \"rows\": 10,\n  \"fields\": [\n    {\n      \"column\": \"amenity\",\n      \"properties\": {\n        \"dtype\": \"category\",\n        \"num_unique_values\": 1,\n        \"samples\": [\n          \"cafe\"\n        ],\n        \"semantic_type\": \"\",\n        \"description\": \"\"\n      }\n    },\n    {\n      \"column\": \"contact:phone\",\n      \"properties\": {\n        \"dtype\": \"string\",\n        \"num_unique_values\": 7,\n        \"samples\": [\n          \"+7 960 7224606\"\n        ],\n        \"semantic_type\": \"\",\n        \"description\": \"\"\n      }\n    },\n    {\n      \"column\": \"contact:vk\",\n      \"properties\": {\n        \"dtype\": \"category\",\n        \"num_unique_values\": 2,\n        \"samples\": [\n          \"https://vk.com/diana_official_page\"\n        ],\n        \"semantic_type\": \"\",\n        \"description\": \"\"\n      }\n    },\n    {\n      \"column\": \"contact:website\",\n      \"properties\": {\n        \"dtype\": \"category\",\n        \"num_unique_values\": 2,\n        \"samples\": [\n          \"https://33pingvina.ru/\"\n        ],\n        \"semantic_type\": \"\",\n        \"description\": \"\"\n      }\n    },\n    {\n      \"column\": \"delivery\",\n      \"properties\": {\n        \"dtype\": \"category\",\n        \"num_unique_values\": 1,\n        \"samples\": [\n          \"yes\"\n        ],\n        \"semantic_type\": \"\",\n        \"description\": \"\"\n      }\n    },\n    {\n      \"column\": \"name\",\n      \"properties\": {\n        \"dtype\": \"string\",\n        \"num_unique_values\": 10,\n        \"samples\": [\n          \"\\u041f\\u043e\\u0434\\u0432\\u0430\\u043b\\u044c\\u0447\\u0438\\u043a\"\n        ],\n        \"semantic_type\": \"\",\n        \"description\": \"\"\n      }\n    },\n    {\n      \"column\": \"opening_hours\",\n      \"properties\": {\n        \"dtype\": \"string\",\n        \"num_unique_values\": 6,\n        \"samples\": [\n          \"Mo-Su 10:00-24:00\"\n        ],\n        \"semantic_type\": \"\",\n        \"description\": \"\"\n      }\n    },\n    {\n      \"column\": \"geometry\",\n      \"properties\": {\n        \"dtype\": \"geometry\",\n        \"num_unique_values\": 10,\n        \"samples\": [\n          \"POINT (38.8735986 56.1619518)\"\n        ],\n        \"semantic_type\": \"\",\n        \"description\": \"\"\n      }\n    },\n    {\n      \"column\": \"contact:email\",\n      \"properties\": {\n        \"dtype\": \"category\",\n        \"num_unique_values\": 1,\n        \"samples\": [\n          \"horeca@33pingvina.ru\"\n        ],\n        \"semantic_type\": \"\",\n        \"description\": \"\"\n      }\n    },\n    {\n      \"column\": \"cuisine\",\n      \"properties\": {\n        \"dtype\": \"category\",\n        \"num_unique_values\": 1,\n        \"samples\": [\n          \"ice_cream\"\n        ],\n        \"semantic_type\": \"\",\n        \"description\": \"\"\n      }\n    },\n    {\n      \"column\": \"operator\",\n      \"properties\": {\n        \"dtype\": \"category\",\n        \"num_unique_values\": 1,\n        \"samples\": [\n          \"\\u0418\\u043d\\u0442\\u0435\\u0440\\u043e\\u043f\\u0442\"\n        ],\n        \"semantic_type\": \"\",\n        \"description\": \"\"\n      }\n    },\n    {\n      \"column\": \"shop\",\n      \"properties\": {\n        \"dtype\": \"category\",\n        \"num_unique_values\": 1,\n        \"samples\": [\n          \"ice_cream\"\n        ],\n        \"semantic_type\": \"\",\n        \"description\": \"\"\n      }\n    },\n    {\n      \"column\": \"contact:vk2\",\n      \"properties\": {\n        \"dtype\": \"category\",\n        \"num_unique_values\": 1,\n        \"samples\": [\n          \"https://vk.com/market-66180628\"\n        ],\n        \"semantic_type\": \"\",\n        \"description\": \"\"\n      }\n    },\n    {\n      \"column\": \"takeaway\",\n      \"properties\": {\n        \"dtype\": \"category\",\n        \"num_unique_values\": 1,\n        \"samples\": [\n          \"yes\"\n        ],\n        \"semantic_type\": \"\",\n        \"description\": \"\"\n      }\n    },\n    {\n      \"column\": \"nodes\",\n      \"properties\": {\n        \"dtype\": \"object\",\n        \"semantic_type\": \"\",\n        \"description\": \"\"\n      }\n    },\n    {\n      \"column\": \"addr:housenumber\",\n      \"properties\": {\n        \"dtype\": \"category\",\n        \"num_unique_values\": 1,\n        \"samples\": [\n          \"17\\u0410\"\n        ],\n        \"semantic_type\": \"\",\n        \"description\": \"\"\n      }\n    },\n    {\n      \"column\": \"addr:street\",\n      \"properties\": {\n        \"dtype\": \"category\",\n        \"num_unique_values\": 1,\n        \"samples\": [\n          \"\\u041b\\u0435\\u043d\\u0438\\u043d\\u0433\\u0440\\u0430\\u0434\\u0441\\u043a\\u0430\\u044f \\u0443\\u043b\\u0438\\u0446\\u0430\"\n        ],\n        \"semantic_type\": \"\",\n        \"description\": \"\"\n      }\n    },\n    {\n      \"column\": \"building\",\n      \"properties\": {\n        \"dtype\": \"category\",\n        \"num_unique_values\": 1,\n        \"samples\": [\n          \"yes\"\n        ],\n        \"semantic_type\": \"\",\n        \"description\": \"\"\n      }\n    }\n  ]\n}"
            }
          },
          "metadata": {},
          "execution_count": 9
        }
      ]
    },
    {
      "cell_type": "markdown",
      "source": [
        "# PyrOSM"
      ],
      "metadata": {
        "id": "Op69GTehiFbU"
      }
    },
    {
      "cell_type": "code",
      "source": [
        "# Установка библиотеки\n",
        "!pip -q install pyrosm"
      ],
      "metadata": {
        "id": "eYX7pAkKiFbV",
        "colab": {
          "base_uri": "https://localhost:8080/"
        },
        "outputId": "6a16ee13-c2b9-4669-c1b6-54a25f1b3520"
      },
      "execution_count": null,
      "outputs": [
        {
          "output_type": "stream",
          "name": "stderr",
          "text": [
            "/usr/local/lib/python3.10/dist-packages/ipykernel/ipkernel.py:283: DeprecationWarning: `should_run_async` will not call `transform_cell` automatically in the future. Please pass the result to `transformed_cell` argument and any exception that happen during thetransform in `preprocessing_exc_tuple` in IPython 7.17 and above.\n",
            "  and should_run_async(code)\n"
          ]
        },
        {
          "output_type": "stream",
          "name": "stdout",
          "text": [
            "\u001b[2K     \u001b[90m━━━━━━━━━━━━━━━━━━━━━━━━━━━━━━━━━━━━━━━━\u001b[0m \u001b[32m2.5/2.5 MB\u001b[0m \u001b[31m9.8 MB/s\u001b[0m eta \u001b[36m0:00:00\u001b[0m\n",
            "\u001b[?25h  Installing build dependencies ... \u001b[?25l\u001b[?25hdone\n",
            "  Getting requirements to build wheel ... \u001b[?25l\u001b[?25hdone\n",
            "  Preparing metadata (pyproject.toml) ... \u001b[?25l\u001b[?25hdone\n",
            "\u001b[2K     \u001b[90m━━━━━━━━━━━━━━━━━━━━━━━━━━━━━━━━━━━━━━━━\u001b[0m \u001b[32m1.7/1.7 MB\u001b[0m \u001b[31m17.0 MB/s\u001b[0m eta \u001b[36m0:00:00\u001b[0m\n",
            "\u001b[2K     \u001b[90m━━━━━━━━━━━━━━━━━━━━━━━━━━━━━━━━━━━━━━━━\u001b[0m \u001b[32m44.9/44.9 kB\u001b[0m \u001b[31m4.2 MB/s\u001b[0m eta \u001b[36m0:00:00\u001b[0m\n",
            "\u001b[?25h  Installing build dependencies ... \u001b[?25l\u001b[?25hdone\n",
            "  Getting requirements to build wheel ... \u001b[?25l\u001b[?25hdone\n",
            "  Preparing metadata (pyproject.toml) ... \u001b[?25l\u001b[?25hdone\n",
            "  Building wheel for pyrosm (pyproject.toml) ... \u001b[?25l\u001b[?25hdone\n",
            "  Building wheel for cykhash (pyproject.toml) ... \u001b[?25l\u001b[?25hdone\n"
          ]
        }
      ]
    },
    {
      "cell_type": "code",
      "source": [
        "# скачаем дамп карты OpenStreetMap для ЦФО\n",
        "!gdown https://download.geofabrik.de/russia/central-fed-district-latest.osm.pbf"
      ],
      "metadata": {
        "colab": {
          "base_uri": "https://localhost:8080/"
        },
        "id": "kGdMSpDg2wN9",
        "outputId": "63c9830b-f904-4b53-8f37-8a5028d760d7"
      },
      "execution_count": null,
      "outputs": [
        {
          "output_type": "stream",
          "name": "stdout",
          "text": [
            "Downloading...\n",
            "From: https://download.geofabrik.de/russia/central-fed-district-latest.osm.pbf\n",
            "To: /content/central-fed-district-latest.osm.pbf\n",
            "100% 781M/781M [00:40<00:00, 19.3MB/s]\n"
          ]
        }
      ]
    },
    {
      "cell_type": "markdown",
      "source": [
        "Установим аналог osmosis - [osmium](https://osmcode.org/osmium-tool/manual.html). Этот инструмент необходим, для того, чтобы вырезать Владимирскую область из дампа ЦФО. Так как pyrosm плохо работает с большими файлами (более 100мб)."
      ],
      "metadata": {
        "id": "-tIfvGCxdTWN"
      }
    },
    {
      "cell_type": "code",
      "source": [
        "!apt-get -qq install osmium-tool"
      ],
      "metadata": {
        "colab": {
          "base_uri": "https://localhost:8080/"
        },
        "id": "PYJW7qyrT7zs",
        "outputId": "0d3306d4-ac18-4982-ba28-a26e5af2a329"
      },
      "execution_count": null,
      "outputs": [
        {
          "output_type": "stream",
          "name": "stdout",
          "text": [
            "Selecting previously unselected package osmium-tool.\n",
            "(Reading database ... 121753 files and directories currently installed.)\n",
            "Preparing to unpack .../osmium-tool_1.14.0-1_amd64.deb ...\n",
            "Unpacking osmium-tool (1.14.0-1) ...\n",
            "Setting up osmium-tool (1.14.0-1) ...\n",
            "Processing triggers for man-db (2.10.2-1) ...\n"
          ]
        }
      ]
    },
    {
      "cell_type": "code",
      "source": [
        "# первой командой вырезаем границы Владимирской области и сохраняем в файл.\n",
        "# r72197 - id области в OSM, найти можно по поиску на сайте openstreetmap.org\n",
        "!osmium getid -r central-fed-district-latest.osm.pbf r72197 -o vladimirskaya_obl_boundary.osm"
      ],
      "metadata": {
        "colab": {
          "base_uri": "https://localhost:8080/"
        },
        "id": "QqumChhfVWcv",
        "outputId": "443170b7-f59e-4933-c881-8af7497afc1d"
      },
      "execution_count": null,
      "outputs": [
        {
          "output_type": "stream",
          "name": "stdout",
          "text": [
            "[======================================================================] 100% \n"
          ]
        }
      ]
    },
    {
      "cell_type": "code",
      "source": [
        "# второй командой вырезаем всю Владимирскую область из ЦФО и сохраняем в файл\n",
        "!osmium extract -p vladimirskaya_obl_boundary.osm central-fed-district-latest.osm.pbf -o vladimirskaya_obl.osm.pbf"
      ],
      "metadata": {
        "colab": {
          "base_uri": "https://localhost:8080/"
        },
        "id": "NwYsZ4nFfIJJ",
        "outputId": "c59a176d-efe8-4675-d490-b7f330d98523"
      },
      "execution_count": null,
      "outputs": [
        {
          "output_type": "stream",
          "name": "stdout",
          "text": [
            "[======================================================================] 100% \n"
          ]
        }
      ]
    },
    {
      "cell_type": "markdown",
      "source": [
        "Так как у данной библиотеки нет метода для поиска нужных точек вокруг точки с координатами, поэтому придется воспользоваться костылем."
      ],
      "metadata": {
        "id": "2ITMl7Ji-pcp"
      }
    },
    {
      "cell_type": "code",
      "source": [
        "# импортируем нужные библиотеки\n",
        "import geopandas as gpd\n",
        "from shapely import Point\n",
        "\n",
        "# Создаем полигон из точки\n",
        "coords = (56.15962, 38.87188)\n",
        "dist = 1500\n",
        "point = gpd.GeoDataFrame({'name': ['point'],\n",
        "                           'geometry': [Point(coords[1], coords[0])]},\n",
        "                          crs=\"EPSG:4326\")\n",
        "polygon_from_point = point.to_crs(epsg=32637).buffer(dist).to_crs(epsg=4326)[0]"
      ],
      "metadata": {
        "colab": {
          "base_uri": "https://localhost:8080/"
        },
        "id": "9rh-Irc1_iCv",
        "outputId": "34c49515-cc74-4e67-80b8-00f4dd66a57e"
      },
      "execution_count": null,
      "outputs": [
        {
          "output_type": "stream",
          "name": "stderr",
          "text": [
            "/usr/local/lib/python3.10/dist-packages/pyproj/transformer.py:820: DeprecationWarning: Conversion of an array with ndim > 0 to a scalar is deprecated, and will error in future. Ensure you extract a single element from your array before performing this operation. (Deprecated NumPy 1.25.)\n",
            "  return self._transformer._transform_point(\n"
          ]
        }
      ]
    },
    {
      "cell_type": "code",
      "source": [
        "# импортируем библиотеку\n",
        "import pyrosm\n",
        "# Считываем данные и фильтруем по полигону\n",
        "osm = pyrosm.OSM('/content/vladimirskaya_obl.osm.pbf', bounding_box=polygon_from_point)\n",
        "custom_filter = {'amenity': ['cafe']}\n",
        "# находим все кафе\n",
        "pois = osm.get_pois(custom_filter=custom_filter)\n",
        "pois"
      ],
      "metadata": {
        "colab": {
          "base_uri": "https://localhost:8080/",
          "height": 1000
        },
        "id": "4_6aLkU01Km4",
        "outputId": "0bb45ade-aab1-46d8-8c37-e3e88f0bbfa0"
      },
      "execution_count": null,
      "outputs": [
        {
          "output_type": "stream",
          "name": "stderr",
          "text": [
            "/usr/local/lib/python3.10/dist-packages/ipykernel/ipkernel.py:283: DeprecationWarning: `should_run_async` will not call `transform_cell` automatically in the future. Please pass the result to `transformed_cell` argument and any exception that happen during thetransform in `preprocessing_exc_tuple` in IPython 7.17 and above.\n",
            "  and should_run_async(code)\n",
            "<frozen importlib._bootstrap>:914: ImportWarning: _PyDrive2ImportHook.find_spec() not found; falling back to find_module()\n",
            "<frozen importlib._bootstrap>:914: ImportWarning: _PyDriveImportHook.find_spec() not found; falling back to find_module()\n",
            "<frozen importlib._bootstrap>:914: ImportWarning: _GenerativeAIImportHook.find_spec() not found; falling back to find_module()\n",
            "<frozen importlib._bootstrap>:914: ImportWarning: _OpenCVImportHook.find_spec() not found; falling back to find_module()\n",
            "<frozen importlib._bootstrap>:914: ImportWarning: APICoreClientInfoImportHook.find_spec() not found; falling back to find_module()\n",
            "<frozen importlib._bootstrap>:914: ImportWarning: _BokehImportHook.find_spec() not found; falling back to find_module()\n",
            "<frozen importlib._bootstrap>:914: ImportWarning: _AltairImportHook.find_spec() not found; falling back to find_module()\n",
            "/usr/local/lib/python3.10/dist-packages/pandas/core/dtypes/cast.py:1641: DeprecationWarning: np.find_common_type is deprecated.  Please use `np.result_type` or `np.promote_types`.\n",
            "See https://numpy.org/devdocs/release/1.25.0-notes.html and the docs for more information.  (Deprecated NumPy 1.25)\n",
            "  return np.find_common_type(types, [])\n",
            "/usr/local/lib/python3.10/dist-packages/pandas/core/dtypes/cast.py:1641: DeprecationWarning: np.find_common_type is deprecated.  Please use `np.result_type` or `np.promote_types`.\n",
            "See https://numpy.org/devdocs/release/1.25.0-notes.html and the docs for more information.  (Deprecated NumPy 1.25)\n",
            "  return np.find_common_type(types, [])\n",
            "/usr/local/lib/python3.10/dist-packages/pandas/core/dtypes/cast.py:1641: DeprecationWarning: np.find_common_type is deprecated.  Please use `np.result_type` or `np.promote_types`.\n",
            "See https://numpy.org/devdocs/release/1.25.0-notes.html and the docs for more information.  (Deprecated NumPy 1.25)\n",
            "  return np.find_common_type(types, [])\n",
            "/usr/local/lib/python3.10/dist-packages/pandas/core/dtypes/cast.py:1641: DeprecationWarning: np.find_common_type is deprecated.  Please use `np.result_type` or `np.promote_types`.\n",
            "See https://numpy.org/devdocs/release/1.25.0-notes.html and the docs for more information.  (Deprecated NumPy 1.25)\n",
            "  return np.find_common_type(types, [])\n",
            "/usr/local/lib/python3.10/dist-packages/pandas/core/algorithms.py:522: DeprecationWarning: np.find_common_type is deprecated.  Please use `np.result_type` or `np.promote_types`.\n",
            "See https://numpy.org/devdocs/release/1.25.0-notes.html and the docs for more information.  (Deprecated NumPy 1.25)\n",
            "  common = np.find_common_type([values.dtype, comps_array.dtype], [])\n"
          ]
        },
        {
          "output_type": "execute_result",
          "data": {
            "text/plain": [
              "   changeset visible   timestamp        lat  \\\n",
              "0        0.0   False  1698121134  56.161583   \n",
              "1        0.0   False  1698121134  56.162411   \n",
              "2        0.0   False  1698121134  56.152580   \n",
              "3        0.0   False  1698121134  56.163044   \n",
              "4        0.0   False  1698121134  56.153770   \n",
              "5        0.0   False  1698121134  56.171970   \n",
              "6        0.0   False  1700123770  56.161953   \n",
              "7        NaN   False  1698121134        NaN   \n",
              "\n",
              "                                                tags        lon           id  \\\n",
              "0                                               None  38.872814   2701046998   \n",
              "1  {\"contact:email\":\"horeca@33pingvina.ru\",\"conta...  38.871613   6690633237   \n",
              "2                                               None  38.851887   6743529274   \n",
              "3                 {\"contact:phone\":\"+7 916 5780664\"}  38.871376   6798201569   \n",
              "4  {\"contact:phone\":\"+7 49237 29602\",\"contact:vk\"...  38.854229  10757580248   \n",
              "5  {\"contact:phone\":\"+7 965 2292000\",\"takeaway\":\"...  38.866249  11170704998   \n",
              "6                 {\"contact:phone\":\"+7 960 7330055\"}  38.873600  11353602993   \n",
              "7                 {\"contact:phone\":\"+7 919 0022080\"}        NaN    572750220   \n",
              "\n",
              "   version         name                                     opening_hours  \\\n",
              "0       17         Аида                                              None   \n",
              "1       26  33 пингвина                                 Mo-Su 09:00-19:00   \n",
              "2       17      Лакомка                                              None   \n",
              "3       19     Столовая                                 Mo-Su 09:00-20:00   \n",
              "4       17        Диана                                 Mo-Su 10:00-22:00   \n",
              "5        5      Адмирал                                              None   \n",
              "6        1   Подвальчик              Mo-Th 09:00-18:00; Fr-Su 09:00-20:00   \n",
              "7       19      Caramel  Mo-Fr 09:00-24:00; Sa,Su 00:00-02:00,09:00-24:00   \n",
              "\n",
              "   operator amenity                                           geometry  \\\n",
              "0      None    cafe                          POINT (38.87281 56.16158)   \n",
              "1  Интеропт    cafe                          POINT (38.87161 56.16241)   \n",
              "2      None    cafe                          POINT (38.85189 56.15258)   \n",
              "3      None    cafe                          POINT (38.87138 56.16304)   \n",
              "4      None    cafe                          POINT (38.85423 56.15377)   \n",
              "5      None    cafe                          POINT (38.86625 56.17197)   \n",
              "6      None    cafe                          POINT (38.87360 56.16195)   \n",
              "7       NaN    cafe  POLYGON ((38.87139 56.15982, 38.87157 56.15993...   \n",
              "\n",
              "  osm_type addr:housenumber          addr:street building  \n",
              "0     node              NaN                  NaN      NaN  \n",
              "1     node              NaN                  NaN      NaN  \n",
              "2     node              NaN                  NaN      NaN  \n",
              "3     node              NaN                  NaN      NaN  \n",
              "4     node              NaN                  NaN      NaN  \n",
              "5     node              NaN                  NaN      NaN  \n",
              "6     node              NaN                  NaN      NaN  \n",
              "7      way              17А  Ленинградская улица      yes  "
            ],
            "text/html": [
              "\n",
              "  <div id=\"df-33bc5039-d277-463b-ae9e-56f957e5264a\" class=\"colab-df-container\">\n",
              "    <div>\n",
              "<style scoped>\n",
              "    .dataframe tbody tr th:only-of-type {\n",
              "        vertical-align: middle;\n",
              "    }\n",
              "\n",
              "    .dataframe tbody tr th {\n",
              "        vertical-align: top;\n",
              "    }\n",
              "\n",
              "    .dataframe thead th {\n",
              "        text-align: right;\n",
              "    }\n",
              "</style>\n",
              "<table border=\"1\" class=\"dataframe\">\n",
              "  <thead>\n",
              "    <tr style=\"text-align: right;\">\n",
              "      <th></th>\n",
              "      <th>changeset</th>\n",
              "      <th>visible</th>\n",
              "      <th>timestamp</th>\n",
              "      <th>lat</th>\n",
              "      <th>tags</th>\n",
              "      <th>lon</th>\n",
              "      <th>id</th>\n",
              "      <th>version</th>\n",
              "      <th>name</th>\n",
              "      <th>opening_hours</th>\n",
              "      <th>operator</th>\n",
              "      <th>amenity</th>\n",
              "      <th>geometry</th>\n",
              "      <th>osm_type</th>\n",
              "      <th>addr:housenumber</th>\n",
              "      <th>addr:street</th>\n",
              "      <th>building</th>\n",
              "    </tr>\n",
              "  </thead>\n",
              "  <tbody>\n",
              "    <tr>\n",
              "      <th>0</th>\n",
              "      <td>0.0</td>\n",
              "      <td>False</td>\n",
              "      <td>1698121134</td>\n",
              "      <td>56.161583</td>\n",
              "      <td>None</td>\n",
              "      <td>38.872814</td>\n",
              "      <td>2701046998</td>\n",
              "      <td>17</td>\n",
              "      <td>Аида</td>\n",
              "      <td>None</td>\n",
              "      <td>None</td>\n",
              "      <td>cafe</td>\n",
              "      <td>POINT (38.87281 56.16158)</td>\n",
              "      <td>node</td>\n",
              "      <td>NaN</td>\n",
              "      <td>NaN</td>\n",
              "      <td>NaN</td>\n",
              "    </tr>\n",
              "    <tr>\n",
              "      <th>1</th>\n",
              "      <td>0.0</td>\n",
              "      <td>False</td>\n",
              "      <td>1698121134</td>\n",
              "      <td>56.162411</td>\n",
              "      <td>{\"contact:email\":\"horeca@33pingvina.ru\",\"conta...</td>\n",
              "      <td>38.871613</td>\n",
              "      <td>6690633237</td>\n",
              "      <td>26</td>\n",
              "      <td>33 пингвина</td>\n",
              "      <td>Mo-Su 09:00-19:00</td>\n",
              "      <td>Интеропт</td>\n",
              "      <td>cafe</td>\n",
              "      <td>POINT (38.87161 56.16241)</td>\n",
              "      <td>node</td>\n",
              "      <td>NaN</td>\n",
              "      <td>NaN</td>\n",
              "      <td>NaN</td>\n",
              "    </tr>\n",
              "    <tr>\n",
              "      <th>2</th>\n",
              "      <td>0.0</td>\n",
              "      <td>False</td>\n",
              "      <td>1698121134</td>\n",
              "      <td>56.152580</td>\n",
              "      <td>None</td>\n",
              "      <td>38.851887</td>\n",
              "      <td>6743529274</td>\n",
              "      <td>17</td>\n",
              "      <td>Лакомка</td>\n",
              "      <td>None</td>\n",
              "      <td>None</td>\n",
              "      <td>cafe</td>\n",
              "      <td>POINT (38.85189 56.15258)</td>\n",
              "      <td>node</td>\n",
              "      <td>NaN</td>\n",
              "      <td>NaN</td>\n",
              "      <td>NaN</td>\n",
              "    </tr>\n",
              "    <tr>\n",
              "      <th>3</th>\n",
              "      <td>0.0</td>\n",
              "      <td>False</td>\n",
              "      <td>1698121134</td>\n",
              "      <td>56.163044</td>\n",
              "      <td>{\"contact:phone\":\"+7 916 5780664\"}</td>\n",
              "      <td>38.871376</td>\n",
              "      <td>6798201569</td>\n",
              "      <td>19</td>\n",
              "      <td>Столовая</td>\n",
              "      <td>Mo-Su 09:00-20:00</td>\n",
              "      <td>None</td>\n",
              "      <td>cafe</td>\n",
              "      <td>POINT (38.87138 56.16304)</td>\n",
              "      <td>node</td>\n",
              "      <td>NaN</td>\n",
              "      <td>NaN</td>\n",
              "      <td>NaN</td>\n",
              "    </tr>\n",
              "    <tr>\n",
              "      <th>4</th>\n",
              "      <td>0.0</td>\n",
              "      <td>False</td>\n",
              "      <td>1698121134</td>\n",
              "      <td>56.153770</td>\n",
              "      <td>{\"contact:phone\":\"+7 49237 29602\",\"contact:vk\"...</td>\n",
              "      <td>38.854229</td>\n",
              "      <td>10757580248</td>\n",
              "      <td>17</td>\n",
              "      <td>Диана</td>\n",
              "      <td>Mo-Su 10:00-22:00</td>\n",
              "      <td>None</td>\n",
              "      <td>cafe</td>\n",
              "      <td>POINT (38.85423 56.15377)</td>\n",
              "      <td>node</td>\n",
              "      <td>NaN</td>\n",
              "      <td>NaN</td>\n",
              "      <td>NaN</td>\n",
              "    </tr>\n",
              "    <tr>\n",
              "      <th>5</th>\n",
              "      <td>0.0</td>\n",
              "      <td>False</td>\n",
              "      <td>1698121134</td>\n",
              "      <td>56.171970</td>\n",
              "      <td>{\"contact:phone\":\"+7 965 2292000\",\"takeaway\":\"...</td>\n",
              "      <td>38.866249</td>\n",
              "      <td>11170704998</td>\n",
              "      <td>5</td>\n",
              "      <td>Адмирал</td>\n",
              "      <td>None</td>\n",
              "      <td>None</td>\n",
              "      <td>cafe</td>\n",
              "      <td>POINT (38.86625 56.17197)</td>\n",
              "      <td>node</td>\n",
              "      <td>NaN</td>\n",
              "      <td>NaN</td>\n",
              "      <td>NaN</td>\n",
              "    </tr>\n",
              "    <tr>\n",
              "      <th>6</th>\n",
              "      <td>0.0</td>\n",
              "      <td>False</td>\n",
              "      <td>1700123770</td>\n",
              "      <td>56.161953</td>\n",
              "      <td>{\"contact:phone\":\"+7 960 7330055\"}</td>\n",
              "      <td>38.873600</td>\n",
              "      <td>11353602993</td>\n",
              "      <td>1</td>\n",
              "      <td>Подвальчик</td>\n",
              "      <td>Mo-Th 09:00-18:00; Fr-Su 09:00-20:00</td>\n",
              "      <td>None</td>\n",
              "      <td>cafe</td>\n",
              "      <td>POINT (38.87360 56.16195)</td>\n",
              "      <td>node</td>\n",
              "      <td>NaN</td>\n",
              "      <td>NaN</td>\n",
              "      <td>NaN</td>\n",
              "    </tr>\n",
              "    <tr>\n",
              "      <th>7</th>\n",
              "      <td>NaN</td>\n",
              "      <td>False</td>\n",
              "      <td>1698121134</td>\n",
              "      <td>NaN</td>\n",
              "      <td>{\"contact:phone\":\"+7 919 0022080\"}</td>\n",
              "      <td>NaN</td>\n",
              "      <td>572750220</td>\n",
              "      <td>19</td>\n",
              "      <td>Caramel</td>\n",
              "      <td>Mo-Fr 09:00-24:00; Sa,Su 00:00-02:00,09:00-24:00</td>\n",
              "      <td>NaN</td>\n",
              "      <td>cafe</td>\n",
              "      <td>POLYGON ((38.87139 56.15982, 38.87157 56.15993...</td>\n",
              "      <td>way</td>\n",
              "      <td>17А</td>\n",
              "      <td>Ленинградская улица</td>\n",
              "      <td>yes</td>\n",
              "    </tr>\n",
              "  </tbody>\n",
              "</table>\n",
              "</div>\n",
              "    <div class=\"colab-df-buttons\">\n",
              "\n",
              "  <div class=\"colab-df-container\">\n",
              "    <button class=\"colab-df-convert\" onclick=\"convertToInteractive('df-33bc5039-d277-463b-ae9e-56f957e5264a')\"\n",
              "            title=\"Convert this dataframe to an interactive table.\"\n",
              "            style=\"display:none;\">\n",
              "\n",
              "  <svg xmlns=\"http://www.w3.org/2000/svg\" height=\"24px\" viewBox=\"0 -960 960 960\">\n",
              "    <path d=\"M120-120v-720h720v720H120Zm60-500h600v-160H180v160Zm220 220h160v-160H400v160Zm0 220h160v-160H400v160ZM180-400h160v-160H180v160Zm440 0h160v-160H620v160ZM180-180h160v-160H180v160Zm440 0h160v-160H620v160Z\"/>\n",
              "  </svg>\n",
              "    </button>\n",
              "\n",
              "  <style>\n",
              "    .colab-df-container {\n",
              "      display:flex;\n",
              "      gap: 12px;\n",
              "    }\n",
              "\n",
              "    .colab-df-convert {\n",
              "      background-color: #E8F0FE;\n",
              "      border: none;\n",
              "      border-radius: 50%;\n",
              "      cursor: pointer;\n",
              "      display: none;\n",
              "      fill: #1967D2;\n",
              "      height: 32px;\n",
              "      padding: 0 0 0 0;\n",
              "      width: 32px;\n",
              "    }\n",
              "\n",
              "    .colab-df-convert:hover {\n",
              "      background-color: #E2EBFA;\n",
              "      box-shadow: 0px 1px 2px rgba(60, 64, 67, 0.3), 0px 1px 3px 1px rgba(60, 64, 67, 0.15);\n",
              "      fill: #174EA6;\n",
              "    }\n",
              "\n",
              "    .colab-df-buttons div {\n",
              "      margin-bottom: 4px;\n",
              "    }\n",
              "\n",
              "    [theme=dark] .colab-df-convert {\n",
              "      background-color: #3B4455;\n",
              "      fill: #D2E3FC;\n",
              "    }\n",
              "\n",
              "    [theme=dark] .colab-df-convert:hover {\n",
              "      background-color: #434B5C;\n",
              "      box-shadow: 0px 1px 3px 1px rgba(0, 0, 0, 0.15);\n",
              "      filter: drop-shadow(0px 1px 2px rgba(0, 0, 0, 0.3));\n",
              "      fill: #FFFFFF;\n",
              "    }\n",
              "  </style>\n",
              "\n",
              "    <script>\n",
              "      const buttonEl =\n",
              "        document.querySelector('#df-33bc5039-d277-463b-ae9e-56f957e5264a button.colab-df-convert');\n",
              "      buttonEl.style.display =\n",
              "        google.colab.kernel.accessAllowed ? 'block' : 'none';\n",
              "\n",
              "      async function convertToInteractive(key) {\n",
              "        const element = document.querySelector('#df-33bc5039-d277-463b-ae9e-56f957e5264a');\n",
              "        const dataTable =\n",
              "          await google.colab.kernel.invokeFunction('convertToInteractive',\n",
              "                                                    [key], {});\n",
              "        if (!dataTable) return;\n",
              "\n",
              "        const docLinkHtml = 'Like what you see? Visit the ' +\n",
              "          '<a target=\"_blank\" href=https://colab.research.google.com/notebooks/data_table.ipynb>data table notebook</a>'\n",
              "          + ' to learn more about interactive tables.';\n",
              "        element.innerHTML = '';\n",
              "        dataTable['output_type'] = 'display_data';\n",
              "        await google.colab.output.renderOutput(dataTable, element);\n",
              "        const docLink = document.createElement('div');\n",
              "        docLink.innerHTML = docLinkHtml;\n",
              "        element.appendChild(docLink);\n",
              "      }\n",
              "    </script>\n",
              "  </div>\n",
              "\n",
              "\n",
              "<div id=\"df-1d2e8b1b-4d5f-4f84-9539-fc9601c152f3\">\n",
              "  <button class=\"colab-df-quickchart\" onclick=\"quickchart('df-1d2e8b1b-4d5f-4f84-9539-fc9601c152f3')\"\n",
              "            title=\"Suggest charts\"\n",
              "            style=\"display:none;\">\n",
              "\n",
              "<svg xmlns=\"http://www.w3.org/2000/svg\" height=\"24px\"viewBox=\"0 0 24 24\"\n",
              "     width=\"24px\">\n",
              "    <g>\n",
              "        <path d=\"M19 3H5c-1.1 0-2 .9-2 2v14c0 1.1.9 2 2 2h14c1.1 0 2-.9 2-2V5c0-1.1-.9-2-2-2zM9 17H7v-7h2v7zm4 0h-2V7h2v10zm4 0h-2v-4h2v4z\"/>\n",
              "    </g>\n",
              "</svg>\n",
              "  </button>\n",
              "\n",
              "<style>\n",
              "  .colab-df-quickchart {\n",
              "      --bg-color: #E8F0FE;\n",
              "      --fill-color: #1967D2;\n",
              "      --hover-bg-color: #E2EBFA;\n",
              "      --hover-fill-color: #174EA6;\n",
              "      --disabled-fill-color: #AAA;\n",
              "      --disabled-bg-color: #DDD;\n",
              "  }\n",
              "\n",
              "  [theme=dark] .colab-df-quickchart {\n",
              "      --bg-color: #3B4455;\n",
              "      --fill-color: #D2E3FC;\n",
              "      --hover-bg-color: #434B5C;\n",
              "      --hover-fill-color: #FFFFFF;\n",
              "      --disabled-bg-color: #3B4455;\n",
              "      --disabled-fill-color: #666;\n",
              "  }\n",
              "\n",
              "  .colab-df-quickchart {\n",
              "    background-color: var(--bg-color);\n",
              "    border: none;\n",
              "    border-radius: 50%;\n",
              "    cursor: pointer;\n",
              "    display: none;\n",
              "    fill: var(--fill-color);\n",
              "    height: 32px;\n",
              "    padding: 0;\n",
              "    width: 32px;\n",
              "  }\n",
              "\n",
              "  .colab-df-quickchart:hover {\n",
              "    background-color: var(--hover-bg-color);\n",
              "    box-shadow: 0 1px 2px rgba(60, 64, 67, 0.3), 0 1px 3px 1px rgba(60, 64, 67, 0.15);\n",
              "    fill: var(--button-hover-fill-color);\n",
              "  }\n",
              "\n",
              "  .colab-df-quickchart-complete:disabled,\n",
              "  .colab-df-quickchart-complete:disabled:hover {\n",
              "    background-color: var(--disabled-bg-color);\n",
              "    fill: var(--disabled-fill-color);\n",
              "    box-shadow: none;\n",
              "  }\n",
              "\n",
              "  .colab-df-spinner {\n",
              "    border: 2px solid var(--fill-color);\n",
              "    border-color: transparent;\n",
              "    border-bottom-color: var(--fill-color);\n",
              "    animation:\n",
              "      spin 1s steps(1) infinite;\n",
              "  }\n",
              "\n",
              "  @keyframes spin {\n",
              "    0% {\n",
              "      border-color: transparent;\n",
              "      border-bottom-color: var(--fill-color);\n",
              "      border-left-color: var(--fill-color);\n",
              "    }\n",
              "    20% {\n",
              "      border-color: transparent;\n",
              "      border-left-color: var(--fill-color);\n",
              "      border-top-color: var(--fill-color);\n",
              "    }\n",
              "    30% {\n",
              "      border-color: transparent;\n",
              "      border-left-color: var(--fill-color);\n",
              "      border-top-color: var(--fill-color);\n",
              "      border-right-color: var(--fill-color);\n",
              "    }\n",
              "    40% {\n",
              "      border-color: transparent;\n",
              "      border-right-color: var(--fill-color);\n",
              "      border-top-color: var(--fill-color);\n",
              "    }\n",
              "    60% {\n",
              "      border-color: transparent;\n",
              "      border-right-color: var(--fill-color);\n",
              "    }\n",
              "    80% {\n",
              "      border-color: transparent;\n",
              "      border-right-color: var(--fill-color);\n",
              "      border-bottom-color: var(--fill-color);\n",
              "    }\n",
              "    90% {\n",
              "      border-color: transparent;\n",
              "      border-bottom-color: var(--fill-color);\n",
              "    }\n",
              "  }\n",
              "</style>\n",
              "\n",
              "  <script>\n",
              "    async function quickchart(key) {\n",
              "      const quickchartButtonEl =\n",
              "        document.querySelector('#' + key + ' button');\n",
              "      quickchartButtonEl.disabled = true;  // To prevent multiple clicks.\n",
              "      quickchartButtonEl.classList.add('colab-df-spinner');\n",
              "      try {\n",
              "        const charts = await google.colab.kernel.invokeFunction(\n",
              "            'suggestCharts', [key], {});\n",
              "      } catch (error) {\n",
              "        console.error('Error during call to suggestCharts:', error);\n",
              "      }\n",
              "      quickchartButtonEl.classList.remove('colab-df-spinner');\n",
              "      quickchartButtonEl.classList.add('colab-df-quickchart-complete');\n",
              "    }\n",
              "    (() => {\n",
              "      let quickchartButtonEl =\n",
              "        document.querySelector('#df-1d2e8b1b-4d5f-4f84-9539-fc9601c152f3 button');\n",
              "      quickchartButtonEl.style.display =\n",
              "        google.colab.kernel.accessAllowed ? 'block' : 'none';\n",
              "    })();\n",
              "  </script>\n",
              "</div>\n",
              "    </div>\n",
              "  </div>\n"
            ],
            "application/vnd.google.colaboratory.intrinsic+json": {
              "type": "dataframe",
              "variable_name": "pois",
              "summary": "{\n  \"name\": \"pois\",\n  \"rows\": 8,\n  \"fields\": [\n    {\n      \"column\": \"changeset\",\n      \"properties\": {\n        \"dtype\": \"number\",\n        \"std\": 0.0,\n        \"min\": 0.0,\n        \"max\": 0.0,\n        \"num_unique_values\": 1,\n        \"samples\": [\n          0.0\n        ],\n        \"semantic_type\": \"\",\n        \"description\": \"\"\n      }\n    },\n    {\n      \"column\": \"visible\",\n      \"properties\": {\n        \"dtype\": \"category\",\n        \"num_unique_values\": 1,\n        \"samples\": [\n          false\n        ],\n        \"semantic_type\": \"\",\n        \"description\": \"\"\n      }\n    },\n    {\n      \"column\": \"timestamp\",\n      \"properties\": {\n        \"dtype\": \"uint32\",\n        \"num_unique_values\": 2,\n        \"samples\": [\n          1700123770\n        ],\n        \"semantic_type\": \"\",\n        \"description\": \"\"\n      }\n    },\n    {\n      \"column\": \"lat\",\n      \"properties\": {\n        \"dtype\": \"float32\",\n        \"num_unique_values\": 7,\n        \"samples\": [\n          56.161582946777344\n        ],\n        \"semantic_type\": \"\",\n        \"description\": \"\"\n      }\n    },\n    {\n      \"column\": \"tags\",\n      \"properties\": {\n        \"dtype\": \"string\",\n        \"num_unique_values\": 6,\n        \"samples\": [\n          \"{\\\"contact:email\\\":\\\"horeca@33pingvina.ru\\\",\\\"contact:phone\\\":\\\"+7 800 1005033\\\",\\\"contact:website\\\":\\\"https://33pingvina.ru/\\\",\\\"cuisine\\\":\\\"ice_cream\\\",\\\"shop\\\":\\\"ice_cream\\\"}\"\n        ],\n        \"semantic_type\": \"\",\n        \"description\": \"\"\n      }\n    },\n    {\n      \"column\": \"lon\",\n      \"properties\": {\n        \"dtype\": \"float32\",\n        \"num_unique_values\": 7,\n        \"samples\": [\n          38.8728141784668\n        ],\n        \"semantic_type\": \"\",\n        \"description\": \"\"\n      }\n    },\n    {\n      \"column\": \"id\",\n      \"properties\": {\n        \"dtype\": \"number\",\n        \"std\": 3971022988,\n        \"min\": 572750220,\n        \"max\": 11353602993,\n        \"num_unique_values\": 8,\n        \"samples\": [\n          6690633237\n        ],\n        \"semantic_type\": \"\",\n        \"description\": \"\"\n      }\n    },\n    {\n      \"column\": \"version\",\n      \"properties\": {\n        \"dtype\": \"int32\",\n        \"num_unique_values\": 5,\n        \"samples\": [\n          26\n        ],\n        \"semantic_type\": \"\",\n        \"description\": \"\"\n      }\n    },\n    {\n      \"column\": \"name\",\n      \"properties\": {\n        \"dtype\": \"string\",\n        \"num_unique_values\": 8,\n        \"samples\": [\n          \"33 \\u043f\\u0438\\u043d\\u0433\\u0432\\u0438\\u043d\\u0430\"\n        ],\n        \"semantic_type\": \"\",\n        \"description\": \"\"\n      }\n    },\n    {\n      \"column\": \"opening_hours\",\n      \"properties\": {\n        \"dtype\": \"string\",\n        \"num_unique_values\": 5,\n        \"samples\": [\n          \"Mo-Su 09:00-20:00\"\n        ],\n        \"semantic_type\": \"\",\n        \"description\": \"\"\n      }\n    },\n    {\n      \"column\": \"operator\",\n      \"properties\": {\n        \"dtype\": \"category\",\n        \"num_unique_values\": 1,\n        \"samples\": [\n          \"\\u0418\\u043d\\u0442\\u0435\\u0440\\u043e\\u043f\\u0442\"\n        ],\n        \"semantic_type\": \"\",\n        \"description\": \"\"\n      }\n    },\n    {\n      \"column\": \"amenity\",\n      \"properties\": {\n        \"dtype\": \"category\",\n        \"num_unique_values\": 1,\n        \"samples\": [\n          \"cafe\"\n        ],\n        \"semantic_type\": \"\",\n        \"description\": \"\"\n      }\n    },\n    {\n      \"column\": \"geometry\",\n      \"properties\": {\n        \"dtype\": \"geometry\",\n        \"num_unique_values\": 8,\n        \"samples\": [\n          \"POINT (38.871612548828125 56.162410736083984)\"\n        ],\n        \"semantic_type\": \"\",\n        \"description\": \"\"\n      }\n    },\n    {\n      \"column\": \"osm_type\",\n      \"properties\": {\n        \"dtype\": \"category\",\n        \"num_unique_values\": 2,\n        \"samples\": [\n          \"way\"\n        ],\n        \"semantic_type\": \"\",\n        \"description\": \"\"\n      }\n    },\n    {\n      \"column\": \"addr:housenumber\",\n      \"properties\": {\n        \"dtype\": \"category\",\n        \"num_unique_values\": 1,\n        \"samples\": [\n          \"17\\u0410\"\n        ],\n        \"semantic_type\": \"\",\n        \"description\": \"\"\n      }\n    },\n    {\n      \"column\": \"addr:street\",\n      \"properties\": {\n        \"dtype\": \"category\",\n        \"num_unique_values\": 1,\n        \"samples\": [\n          \"\\u041b\\u0435\\u043d\\u0438\\u043d\\u0433\\u0440\\u0430\\u0434\\u0441\\u043a\\u0430\\u044f \\u0443\\u043b\\u0438\\u0446\\u0430\"\n        ],\n        \"semantic_type\": \"\",\n        \"description\": \"\"\n      }\n    },\n    {\n      \"column\": \"building\",\n      \"properties\": {\n        \"dtype\": \"category\",\n        \"num_unique_values\": 1,\n        \"samples\": [\n          \"yes\"\n        ],\n        \"semantic_type\": \"\",\n        \"description\": \"\"\n      }\n    }\n  ]\n}"
            }
          },
          "metadata": {},
          "execution_count": 16
        }
      ]
    },
    {
      "cell_type": "markdown",
      "source": [
        "А на этом все!"
      ],
      "metadata": {
        "id": "EYDQHz2HpggK"
      }
    }
  ]
}