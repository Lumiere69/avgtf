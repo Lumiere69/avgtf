{
  "nbformat": 4,
  "nbformat_minor": 0,
  "metadata": {
    "colab": {
      "provenance": [],
      "toc_visible": true
    },
    "kernelspec": {
      "name": "python3",
      "display_name": "Python 3"
    },
    "language_info": {
      "name": "python"
    }
  },
  "cells": [
    {
      "cell_type": "markdown",
      "source": [
        "# Введение"
      ],
      "metadata": {
        "id": "jnux3pRbNxH2"
      }
    },
    {
      "cell_type": "markdown",
      "source": [
        "В данном ноутбуке собраны все материалы из главы 1.0 Основные элементы и операции над ними из курса \"Геопространственный анализ данных\". Рассматривается работа с библиотекой `shapely`"
      ],
      "metadata": {
        "id": "8eqqo4gcN0VA"
      }
    },
    {
      "cell_type": "markdown",
      "source": [
        "# Основные элементы"
      ],
      "metadata": {
        "id": "fE8JukG5OEa2"
      }
    },
    {
      "cell_type": "markdown",
      "source": [
        "Строительные элементы векторных данных:\n",
        "\n",
        "Точка или  `Point`: объект представляет собой одну точку в географическом пространстве, а местоположение точки в пространстве определяется координатами. Точки могут быть как двумерными (с координатами x, y), так и трехмерными (с координатами x, y и z, где z - высота).\n",
        "\n",
        "Линия или `LineStrin`g: объект представляет собой последовательность точек, соединенных вместе, чтобы сформировать линию. Следовательно, линия состоит из списка кортежей координат или точек (как минимум из двух).\n",
        "\n",
        "Полигон или `Polygon`: объект представляет собой заполненную область, состоящую из списка кортежей координат или точек (как минимум из трех), образующих периметр или внешнее кольцо, а также возможного списка отверстий.\n",
        "\n",
        "Также есть возможность создавать коллекции геометрических объектов (т.е. несколько точек, линий или полигонов), представленных как `MultiPoint`, `MultiLineString` и `MultiPolygon`. В дополнение к ним, вы иногда можете услышать о других геометрических объектах, таких как Кривая или Curve, Поверхность или Surface, Геометрическая коллекция или `GeometryCollection`, но в основном они реализуются с помощью `Point`, `LineString` и `Polygon`."
      ],
      "metadata": {
        "id": "-3ctS0b_OaFw"
      }
    },
    {
      "cell_type": "markdown",
      "source": [
        "## Точка"
      ],
      "metadata": {
        "id": "9klxIgblOHjP"
      }
    },
    {
      "cell_type": "markdown",
      "source": [
        "Создать геометрический объект Точку проще всего:"
      ],
      "metadata": {
        "id": "_cMiaph7OWVw"
      }
    },
    {
      "cell_type": "code",
      "execution_count": null,
      "metadata": {
        "id": "WLteJL5BNrGx"
      },
      "outputs": [],
      "source": [
        "# Импортируем класс shapely.geometry.Point\n",
        "from shapely.geometry import Point\n",
        "\n",
        "# Создаем объекты Point:\n",
        "point1 = Point(2.2, 4.2)\n",
        "point2 = Point(7.2, -25.1)\n",
        "point3 = Point(9.26, -2.456)"
      ]
    },
    {
      "cell_type": "markdown",
      "source": [
        "Можно сразу вывести одну из них"
      ],
      "metadata": {
        "id": "LVjbLNs3Pg_a"
      }
    },
    {
      "cell_type": "code",
      "source": [
        "point1"
      ],
      "metadata": {
        "colab": {
          "base_uri": "https://localhost:8080/",
          "height": 122
        },
        "id": "WzcTFgddOtO3",
        "outputId": "cdec7b56-73c0-4b3c-de1b-81658fe8fca7"
      },
      "execution_count": null,
      "outputs": [
        {
          "output_type": "execute_result",
          "data": {
            "text/plain": [
              "<POINT (2.2 4.2)>"
            ],
            "image/svg+xml": "<svg xmlns=\"http://www.w3.org/2000/svg\" xmlns:xlink=\"http://www.w3.org/1999/xlink\" width=\"100.0\" height=\"100.0\" viewBox=\"1.2000000000000002 3.2 2.0 2.0\" preserveAspectRatio=\"xMinYMin meet\"><g transform=\"matrix(1,0,0,-1,0,8.4)\"><circle cx=\"2.2\" cy=\"4.2\" r=\"0.06\" stroke=\"#555555\" stroke-width=\"0.02\" fill=\"#66cc99\" opacity=\"0.6\" /></g></svg>"
          },
          "metadata": {},
          "execution_count": 2
        }
      ]
    },
    {
      "cell_type": "markdown",
      "source": [
        "Или альтернативный вариант вывести точку в формате WKT с помощью команды `print()`"
      ],
      "metadata": {
        "id": "_lu2UEsFPkRh"
      }
    },
    {
      "cell_type": "code",
      "source": [
        "print(point1)"
      ],
      "metadata": {
        "colab": {
          "base_uri": "https://localhost:8080/"
        },
        "id": "F5kfz6XaPqQ-",
        "outputId": "a920e902-4d6a-4b24-a3ba-026c9036873d"
      },
      "execution_count": null,
      "outputs": [
        {
          "output_type": "stream",
          "name": "stdout",
          "text": [
            "POINT (2.2 4.2)\n"
          ]
        }
      ]
    },
    {
      "cell_type": "markdown",
      "source": [
        "Рассмотрим несколько свойств и методов:"
      ],
      "metadata": {
        "id": "Yx2fx_2WZxS7"
      }
    },
    {
      "cell_type": "code",
      "source": [
        "# Тип геометрии:\n",
        "point1.geom_type"
      ],
      "metadata": {
        "colab": {
          "base_uri": "https://localhost:8080/",
          "height": 36
        },
        "id": "lF1DMFSPZ1cX",
        "outputId": "d1e51e0c-aaa8-4157-ea69-1469fa9f84db"
      },
      "execution_count": null,
      "outputs": [
        {
          "output_type": "execute_result",
          "data": {
            "text/plain": [
              "'Point'"
            ],
            "application/vnd.google.colaboratory.intrinsic+json": {
              "type": "string"
            }
          },
          "metadata": {},
          "execution_count": 4
        }
      ]
    },
    {
      "cell_type": "code",
      "source": [
        "# Получить кортеж(ы) координат\n",
        "list(point1.coords)"
      ],
      "metadata": {
        "colab": {
          "base_uri": "https://localhost:8080/"
        },
        "id": "2VETm2svaCME",
        "outputId": "8ee04dd6-2240-4c28-b73d-d1448c3b7498"
      },
      "execution_count": null,
      "outputs": [
        {
          "output_type": "execute_result",
          "data": {
            "text/plain": [
              "[(2.2, 4.2)]"
            ]
          },
          "metadata": {},
          "execution_count": 5
        }
      ]
    },
    {
      "cell_type": "code",
      "source": [
        "# Отдельное обращение к координатам x и y\n",
        "x = point1.x\n",
        "y = point1.y\n",
        "print(x, y)"
      ],
      "metadata": {
        "colab": {
          "base_uri": "https://localhost:8080/"
        },
        "id": "0J0Rlsm-aGBe",
        "outputId": "7e4716ae-0c15-4aed-e70c-70f002cdeb52"
      },
      "execution_count": null,
      "outputs": [
        {
          "output_type": "stream",
          "name": "stdout",
          "text": [
            "2.2 4.2\n"
          ]
        }
      ]
    },
    {
      "cell_type": "code",
      "source": [
        "# Рассчитаем расстояние между point1 и point2\n",
        "dist = point1.distance(point2)\n",
        "\n",
        "# Вывод расстояния\n",
        "print(f\"Расстояние между точками = {dist:.2f} единиц\")"
      ],
      "metadata": {
        "colab": {
          "base_uri": "https://localhost:8080/"
        },
        "id": "pfTWu5YxaXwy",
        "outputId": "d5100432-2970-41ac-93ff-3effbb08dd19"
      },
      "execution_count": null,
      "outputs": [
        {
          "output_type": "stream",
          "name": "stdout",
          "text": [
            "Расстояние между точками = 29.72 единиц\n"
          ]
        }
      ]
    },
    {
      "cell_type": "markdown",
      "source": [
        "## Линия"
      ],
      "metadata": {
        "id": "rq8-Rr6ZOwdy"
      }
    },
    {
      "cell_type": "markdown",
      "source": [
        "Создание объектов `LineString` аналогично созданию `Points`. Вместо одного кортежа координат мы передаем список кортежей координат, или список точек, которые составляют линию:"
      ],
      "metadata": {
        "id": "DBqNjYgGOwdz"
      }
    },
    {
      "cell_type": "code",
      "source": [
        "# Импортируем класс LineString\n",
        "from shapely.geometry import LineString\n",
        "\n",
        "# Создаем объект LineString из объектов Point\n",
        "line = LineString([point1, point2, point3])\n",
        "\n",
        "# Создаем объект LineString из списка координат:\n",
        "# (с теми же значениями координат, что и точки, поэтому результаты должны быть идентичными)\n",
        "line2 = LineString([(2.2, 4.2), (7.2, -25.1), (9.26, -2.456)])\n",
        "\n",
        "# Проверяем, действительно ли линии идентичны:\n",
        "line == line2"
      ],
      "metadata": {
        "colab": {
          "base_uri": "https://localhost:8080/"
        },
        "id": "rGfsLtH2OxLJ",
        "outputId": "0909fa1a-ba01-4e75-82c4-afe3726523cc"
      },
      "execution_count": null,
      "outputs": [
        {
          "output_type": "execute_result",
          "data": {
            "text/plain": [
              "True"
            ]
          },
          "metadata": {},
          "execution_count": 8
        }
      ]
    },
    {
      "cell_type": "code",
      "source": [
        "line"
      ],
      "metadata": {
        "colab": {
          "base_uri": "https://localhost:8080/",
          "height": 122
        },
        "id": "npEGrMGdOzVg",
        "outputId": "2c1e1df7-f049-4d9f-fb78-a027b0eab1ad"
      },
      "execution_count": null,
      "outputs": [
        {
          "output_type": "execute_result",
          "data": {
            "text/plain": [
              "<LINESTRING (2.2 4.2, 7.2 -25.1, 9.26 -2.456)>"
            ],
            "image/svg+xml": "<svg xmlns=\"http://www.w3.org/2000/svg\" xmlns:xlink=\"http://www.w3.org/1999/xlink\" width=\"100.0\" height=\"100.0\" viewBox=\"1.028 -26.272000000000002 9.404 31.644000000000002\" preserveAspectRatio=\"xMinYMin meet\"><g transform=\"matrix(1,0,0,-1,0,-20.900000000000002)\"><polyline fill=\"none\" stroke=\"#66cc99\" stroke-width=\"0.63288\" points=\"2.2,4.2 7.2,-25.1 9.26,-2.456\" opacity=\"0.8\" /></g></svg>"
          },
          "metadata": {},
          "execution_count": 9
        }
      ]
    },
    {
      "cell_type": "markdown",
      "source": [
        "Рассмотрим несколько свойств и методов:"
      ],
      "metadata": {
        "id": "owFPVt2LlTVa"
      }
    },
    {
      "cell_type": "code",
      "source": [
        "# Получаем кортеж(ы) координат\n",
        "list(line.coords)"
      ],
      "metadata": {
        "colab": {
          "base_uri": "https://localhost:8080/"
        },
        "id": "i5-vDFeklP9p",
        "outputId": "49dec016-aad1-4af6-8fa0-393e96cbce9b"
      },
      "execution_count": null,
      "outputs": [
        {
          "output_type": "execute_result",
          "data": {
            "text/plain": [
              "[(2.2, 4.2), (7.2, -25.1), (9.26, -2.456)]"
            ]
          },
          "metadata": {},
          "execution_count": 10
        }
      ]
    },
    {
      "cell_type": "code",
      "source": [
        "# Получаем x и y координаты\n",
        "xcoords = list(line.xy[0])\n",
        "ycoords = list(line.xy[1])\n",
        "\n",
        "print(xcoords)\n",
        "print(ycoords)"
      ],
      "metadata": {
        "colab": {
          "base_uri": "https://localhost:8080/"
        },
        "id": "aMzE7yjhlP6J",
        "outputId": "9cff1b11-817b-4516-cb3b-2155ead95432"
      },
      "execution_count": null,
      "outputs": [
        {
          "output_type": "stream",
          "name": "stdout",
          "text": [
            "[2.2, 7.2, 9.26]\n",
            "[4.2, -25.1, -2.456]\n"
          ]
        }
      ]
    },
    {
      "cell_type": "code",
      "source": [
        "# Получаем длину линии\n",
        "line_length = line.length\n",
        "print(f\"Длина линии: {line_length:.1f} единиц\")\n",
        "\n",
        "# Получаем центральную точку линии\n",
        "print(f\"Центральная точка линии: {line.centroid:.2f}\")"
      ],
      "metadata": {
        "colab": {
          "base_uri": "https://localhost:8080/"
        },
        "id": "6NusD9FilYad",
        "outputId": "d7abcaf9-557a-4074-bb81-596fc195e94e"
      },
      "execution_count": null,
      "outputs": [
        {
          "output_type": "stream",
          "name": "stdout",
          "text": [
            "Длина линии: 52.5 единиц\n",
            "Центральная точка линии: POINT (6.23 -11.89)\n"
          ]
        }
      ]
    },
    {
      "cell_type": "markdown",
      "source": [
        "## Замкнутная линия"
      ],
      "metadata": {
        "id": "eQ_cxEAJUD82"
      }
    },
    {
      "cell_type": "markdown",
      "source": [
        "В библиотеке `shapely` создан отдельный класс `LinearRing`, что на русский язык можно перевести, как закольцованная или замкнутая линия.\n",
        "\n",
        "`LinearRing` создается аналогично `LineString`s путем передачи последовательности точек. Эта последовательность может быть задана явно путем передачи одинаковых значений в первый и последний индексы. В противном случае последовательность будет создана неявно путем автоматического копирования первого кортежа координат в последний индекс. Как и в случае с `LineString`, повторные точки в упорядоченной последовательности допускаются, но могут привести к снижению производительности, поэтому их следует избегать.  `LinearRing` не может пересекать себя и не может касаться себя в одной или более точках."
      ],
      "metadata": {
        "id": "lvmlfwuMUIOQ"
      }
    },
    {
      "cell_type": "code",
      "source": [
        "# Импортируем класс LineString\n",
        "from shapely.geometry import LinearRing\n",
        "\n",
        "# Создаем объект LineString явно из объектов Point\n",
        "linearring1 = LinearRing([point1, point2, point3, point1])\n",
        "\n",
        "# Создаем объект LineString неявно из объектов Point\n",
        "linearring2 = LinearRing([point1, point2, point3])\n",
        "\n",
        "# Проверяем, действительно ли линии идентичны:\n",
        "linearring1 == linearring2"
      ],
      "metadata": {
        "colab": {
          "base_uri": "https://localhost:8080/"
        },
        "id": "sS34M4UOUEZc",
        "outputId": "16e235c4-7f88-4598-ecc0-7c23dfe3903b"
      },
      "execution_count": null,
      "outputs": [
        {
          "output_type": "execute_result",
          "data": {
            "text/plain": [
              "True"
            ]
          },
          "metadata": {},
          "execution_count": 13
        }
      ]
    },
    {
      "cell_type": "markdown",
      "source": [
        "Свойства и методы рассматривать не будем, они идентичны `LineString`."
      ],
      "metadata": {
        "id": "n4YJ98IJlWOY"
      }
    },
    {
      "cell_type": "markdown",
      "source": [
        "## Полигон"
      ],
      "metadata": {
        "id": "PdlYxKiuOzzr"
      }
    },
    {
      "cell_type": "markdown",
      "source": [
        "Создание геометрии `Polygon` происходит по той же логике, что и создание геометрий: точки или линии. Однако, правила создания полигона чуть сложнее: он должен состоять ровно из одной замкнутой линии, образующей его внешнюю сторону = периметр, и любого количества дополнительных замкнутых линий, образующих отверстия, которые вырезаются из внешней оболочки.\n",
        "\n",
        "Следовательно, функция `shapely.geometry.Polygon` принимает два параметра: первый, `shell` (или оболочка, корпус), представляет собой список кортежей координат, список точек или `LinearRing`, и будет формировать внешний периметр создаваемого полигона. Второй, необязательный, параметр `holes` (или отверстия), представляет собой список отверстий, которые нужно вырезать в оболочке/корпусе (элементы в списке могут быть тех же типов данных, что и оболочка/корпус).\n",
        "\n",
        "Теперь давайте создадим простой полигон без отверстий тремя разными способами:"
      ],
      "metadata": {
        "id": "LSxiLN1xOzzs"
      }
    },
    {
      "cell_type": "code",
      "source": [
        "from shapely.geometry import Polygon, LinearRing\n",
        "\n",
        "# Создаем Polygon из координат\n",
        "polygon1 = Polygon([(2.2, 4.2), (7.2, -25.1), (9.26, -2.456)])\n",
        "\n",
        "# Создаем Polygon из точек\n",
        "polygon2 = Polygon([point1, point2, point3])\n",
        "\n",
        "# Создаем Polygon из LinearRing\n",
        "polygon3 = Polygon(linearring1)\n",
        "\n",
        "# Проверяем, действительно ли полигоны одинаковы:\n",
        "polygon1 == polygon2 == polygon3"
      ],
      "metadata": {
        "colab": {
          "base_uri": "https://localhost:8080/"
        },
        "id": "Y2fyTge5O0X1",
        "outputId": "0617e228-ce03-4461-8673-359cc32950af"
      },
      "execution_count": null,
      "outputs": [
        {
          "output_type": "execute_result",
          "data": {
            "text/plain": [
              "True"
            ]
          },
          "metadata": {},
          "execution_count": 14
        }
      ]
    },
    {
      "cell_type": "markdown",
      "source": [
        "Посмотрим на наш полигон"
      ],
      "metadata": {
        "id": "Tj9RnWE4rzvV"
      }
    },
    {
      "cell_type": "code",
      "source": [
        "polygon1"
      ],
      "metadata": {
        "colab": {
          "base_uri": "https://localhost:8080/",
          "height": 122
        },
        "id": "FYT_KBFkraAh",
        "outputId": "bcf9caed-eafe-4ae2-c1cb-a1df23d15821"
      },
      "execution_count": null,
      "outputs": [
        {
          "output_type": "execute_result",
          "data": {
            "text/plain": [
              "<POLYGON ((2.2 4.2, 7.2 -25.1, 9.26 -2.456, 2.2 4.2))>"
            ],
            "image/svg+xml": "<svg xmlns=\"http://www.w3.org/2000/svg\" xmlns:xlink=\"http://www.w3.org/1999/xlink\" width=\"100.0\" height=\"100.0\" viewBox=\"1.028 -26.272000000000002 9.404 31.644000000000002\" preserveAspectRatio=\"xMinYMin meet\"><g transform=\"matrix(1,0,0,-1,0,-20.900000000000002)\"><path fill-rule=\"evenodd\" fill=\"#66cc99\" stroke=\"#555555\" stroke-width=\"0.63288\" opacity=\"0.6\" d=\"M 2.2,4.2 L 7.2,-25.1 L 9.26,-2.456 L 2.2,4.2 z\" /></g></svg>"
          },
          "metadata": {},
          "execution_count": 15
        }
      ]
    },
    {
      "cell_type": "markdown",
      "source": [
        "Теперь давай попробуем создать полигон с отверстием:"
      ],
      "metadata": {
        "id": "wcio58knO0zu"
      }
    },
    {
      "cell_type": "code",
      "source": [
        "# Задаем внешний периметр\n",
        "outer = LinearRing([(-180, 90), (-180, -90), (180, -90), (180, 90)])\n",
        "\n",
        "# Задаем периметр отверстия\n",
        "hole = LinearRing([(-170, 80), (-100, -80), (100, -80), (170, 80)])\n",
        "\n",
        "# Создаем полигон с отверстием\n",
        "polygon_with_hole = Polygon(outer, [hole])\n",
        "\n",
        "# Посмотрим на него\n",
        "polygon_with_hole"
      ],
      "metadata": {
        "colab": {
          "base_uri": "https://localhost:8080/",
          "height": 231
        },
        "id": "9mskWPmJO2bu",
        "outputId": "482e367d-6d87-4897-82e3-bd6efb31af57"
      },
      "execution_count": null,
      "outputs": [
        {
          "output_type": "execute_result",
          "data": {
            "text/plain": [
              "<POLYGON ((-180 90, -180 -90, 180 -90, 180 90, -180 90), (-170 80, -100 -80,...>"
            ],
            "image/svg+xml": "<svg xmlns=\"http://www.w3.org/2000/svg\" xmlns:xlink=\"http://www.w3.org/1999/xlink\" width=\"300\" height=\"208.8\" viewBox=\"-194.4 -104.4 388.8 208.8\" preserveAspectRatio=\"xMinYMin meet\"><g transform=\"matrix(1,0,0,-1,0,0.0)\"><path fill-rule=\"evenodd\" fill=\"#66cc99\" stroke=\"#555555\" stroke-width=\"2.592\" opacity=\"0.6\" d=\"M -180.0,90.0 L -180.0,-90.0 L 180.0,-90.0 L 180.0,90.0 L -180.0,90.0 z M -170.0,80.0 L -100.0,-80.0 L 100.0,-80.0 L 170.0,80.0 L -170.0,80.0 z\" /></g></svg>"
          },
          "metadata": {},
          "execution_count": 16
        }
      ]
    },
    {
      "cell_type": "markdown",
      "source": [
        "Рассмотрим несколько свойств и методов:"
      ],
      "metadata": {
        "id": "9ihT3uC1tcXr"
      }
    },
    {
      "cell_type": "code",
      "source": [
        "print(f\"Центр полигона: {polygon_with_hole.centroid}\")\n",
        "print(f\"Площадь полигона: {polygon_with_hole.area}\")\n",
        "print(f\"Ограничительная рамка полигона: {polygon_with_hole.bounds}\")\n",
        "print(f\"Внешнее кольцо полигона: {polygon_with_hole.exterior}\")\n",
        "print(f\"Периметр полигона: {polygon_with_hole.exterior.length}\")"
      ],
      "metadata": {
        "colab": {
          "base_uri": "https://localhost:8080/"
        },
        "id": "RP9pQbUls0AZ",
        "outputId": "63d8906e-3ef1-4a57-91d0-a0fc424b5352"
      },
      "execution_count": null,
      "outputs": [
        {
          "output_type": "stream",
          "name": "stdout",
          "text": [
            "Центр полигона: POINT (0 -13.827160493827162)\n",
            "Площадь полигона: 21600.0\n",
            "Ограничительная рамка полигона: (-180.0, -90.0, 180.0, 90.0)\n",
            "Внешнее кольцо полигона: LINEARRING (-180 90, -180 -90, 180 -90, 180 90, -180 90)\n",
            "Периметр полигона: 1080.0\n"
          ]
        }
      ]
    },
    {
      "cell_type": "markdown",
      "source": [
        "## Коллекции геометрий"
      ],
      "metadata": {
        "id": "tqmM_Iaa3csA"
      }
    },
    {
      "cell_type": "markdown",
      "source": [
        "Иногда бывает полезно хранить несколько геометрий (например, несколько точек или несколько полигонов) в одном объекте. С семантической точки зрения, хранить несколько полигонов в отдельных строках не имеет смысла. В этом случае приходят на помощь `MultiPoint, MultiLineString, MultiPoligon, GeometryCollections`."
      ],
      "metadata": {
        "id": "SBUMHU9a3sMY"
      }
    },
    {
      "cell_type": "code",
      "source": [
        "from shapely.geometry import MultiPoint, MultiLineString, MultiPolygon\n",
        "\n",
        "# Создаем объект MultiPoint из наших точек points 1,2 и 3\n",
        "multipoint = MultiPoint([point1, point2, point3])\n",
        "\n",
        "# Аналогично можно создать MultiLineString из двух линий\n",
        "line1 = LineString([point1, point2])\n",
        "line2 = LineString([point2, point3])\n",
        "multiline = MultiLineString([line1, line2])"
      ],
      "metadata": {
        "id": "_qjnXioit6OY"
      },
      "execution_count": null,
      "outputs": []
    },
    {
      "cell_type": "markdown",
      "source": [
        "`MultiPolygon` строятся аналогичным образом."
      ],
      "metadata": {
        "id": "1rUrwPqvlwpt"
      }
    },
    {
      "cell_type": "markdown",
      "source": [
        "`GeometryCollections` используется для объединения разных типов геометрий:"
      ],
      "metadata": {
        "id": "nWSX2NEj7pux"
      }
    },
    {
      "cell_type": "code",
      "source": [
        "from shapely.geometry import GeometryCollection\n",
        "\n",
        "# Создаем объект GeometryCollection из наших multipoint и  multiline\n",
        "collection = GeometryCollection([multipoint, multiline])\n",
        "print(collection)"
      ],
      "metadata": {
        "colab": {
          "base_uri": "https://localhost:8080/"
        },
        "id": "pItC5bul7XnY",
        "outputId": "577c0439-1357-4845-cb96-68e289840c2e"
      },
      "execution_count": null,
      "outputs": [
        {
          "output_type": "stream",
          "name": "stdout",
          "text": [
            "GEOMETRYCOLLECTION (MULTIPOINT (2.2 4.2, 7.2 -25.1, 9.26 -2.456), MULTILINESTRING ((2.2 4.2, 7.2 -25.1), (7.2 -25.1, 9.26 -2.456)))\n"
          ]
        }
      ]
    },
    {
      "cell_type": "markdown",
      "source": [
        "# Пространственные отношения"
      ],
      "metadata": {
        "id": "kTksGbcQAgDw"
      }
    },
    {
      "cell_type": "markdown",
      "source": [
        "Пространственное отношение (или взаимоотношения элементов) определяет, как некоторый объект расположен в пространстве по отношению к другому объекту.\n",
        "\n",
        "Обычно пространственные отношения разделяют на следующие типы: топологические отношения, отношения направления и отношения расстояний."
      ],
      "metadata": {
        "id": "sh0ibCr7mJjL"
      }
    },
    {
      "cell_type": "code",
      "source": [
        "# Точка находится на линии ?\n",
        "Point(0.5, 0.5).within(LineString([(0, 0), (1, 1)])) # True"
      ],
      "metadata": {
        "colab": {
          "base_uri": "https://localhost:8080/"
        },
        "id": "rZuCM1eimPga",
        "outputId": "bf74161d-d1f6-4fd8-bf99-9c3c714d53d0"
      },
      "execution_count": null,
      "outputs": [
        {
          "output_type": "execute_result",
          "data": {
            "text/plain": [
              "True"
            ]
          },
          "metadata": {},
          "execution_count": 20
        }
      ]
    },
    {
      "cell_type": "code",
      "source": [
        "# Линия 1 касается Линии 2?\n",
        "LineString([(0, 0), (1, 1)]).touches(LineString([(1, 1), (2, 2)])) # True"
      ],
      "metadata": {
        "colab": {
          "base_uri": "https://localhost:8080/"
        },
        "id": "4PPxgguGmTL7",
        "outputId": "49774916-8476-47f6-9b4a-5e4acaed0819"
      },
      "execution_count": null,
      "outputs": [
        {
          "output_type": "execute_result",
          "data": {
            "text/plain": [
              "True"
            ]
          },
          "metadata": {},
          "execution_count": 21
        }
      ]
    },
    {
      "cell_type": "code",
      "source": [
        "# Линия 1 пересекает Линию 2?\n",
        "LineString([(0, 0), (1, 1)]).crosses(LineString([(0, 1), (1, 0)])) # True"
      ],
      "metadata": {
        "colab": {
          "base_uri": "https://localhost:8080/"
        },
        "id": "je6ped6XmWV1",
        "outputId": "71f08cc4-4667-4ebd-9742-06b9c67180c5"
      },
      "execution_count": null,
      "outputs": [
        {
          "output_type": "execute_result",
          "data": {
            "text/plain": [
              "True"
            ]
          },
          "metadata": {},
          "execution_count": 22
        }
      ]
    },
    {
      "cell_type": "code",
      "source": [
        "# Круг 1 перекрывает Круг 2?\n",
        "Point(1, 1).buffer(1.5).overlaps(Point(2, 1).buffer(1.5)) # True"
      ],
      "metadata": {
        "colab": {
          "base_uri": "https://localhost:8080/"
        },
        "id": "Ef65tq-oma9u",
        "outputId": "d2a8f9a8-390a-4a5d-c362-7cee41b43f4f"
      },
      "execution_count": null,
      "outputs": [
        {
          "output_type": "execute_result",
          "data": {
            "text/plain": [
              "True"
            ]
          },
          "metadata": {},
          "execution_count": 23
        }
      ]
    },
    {
      "cell_type": "code",
      "source": [
        "# Линия 1 содержит Точку 1 ?\n",
        "LineString([(0, 0), (1, 1)]).contains(Point(0.5, 0.5))  # True"
      ],
      "metadata": {
        "colab": {
          "base_uri": "https://localhost:8080/"
        },
        "id": "n2TP2kOmmlFi",
        "outputId": "939a3883-6bdb-4058-c202-b588a708e24b"
      },
      "execution_count": null,
      "outputs": [
        {
          "output_type": "execute_result",
          "data": {
            "text/plain": [
              "True"
            ]
          },
          "metadata": {},
          "execution_count": 24
        }
      ]
    },
    {
      "cell_type": "code",
      "source": [
        "# Линия 1 пересекает Точку 1?\n",
        "LineString([(0, 0), (1, 1)]).intersects(Point(0.5, 0.5))  # True"
      ],
      "metadata": {
        "colab": {
          "base_uri": "https://localhost:8080/"
        },
        "id": "NmW4bIBGmnDS",
        "outputId": "52c53ef4-514d-4167-a90a-c6fcdd209160"
      },
      "execution_count": null,
      "outputs": [
        {
          "output_type": "execute_result",
          "data": {
            "text/plain": [
              "True"
            ]
          },
          "metadata": {},
          "execution_count": 25
        }
      ]
    },
    {
      "cell_type": "markdown",
      "source": [
        "# Другие полезные свойства и методы"
      ],
      "metadata": {
        "id": "cYbKIOn6kUb6"
      }
    },
    {
      "cell_type": "markdown",
      "source": [
        "В заключении разберем еще пару полезных свойств и методов геометрий, который могут пригодиться в работе:"
      ],
      "metadata": {
        "id": "jVrblXERrEtf"
      }
    },
    {
      "cell_type": "code",
      "source": [
        "print(f\"Полигон правильный?: {polygon_with_hole.is_valid}\")  # True"
      ],
      "metadata": {
        "colab": {
          "base_uri": "https://localhost:8080/"
        },
        "id": "VGSd5fVnsf2L",
        "outputId": "3be10136-55d1-4703-9bff-69dd9175b3ec"
      },
      "execution_count": null,
      "outputs": [
        {
          "output_type": "stream",
          "name": "stdout",
          "text": [
            "Полигон правильный?: True\n"
          ]
        }
      ]
    },
    {
      "cell_type": "markdown",
      "source": [
        "Буфер"
      ],
      "metadata": {
        "id": "Sreyq4v-skLc"
      }
    },
    {
      "cell_type": "code",
      "source": [
        "line = LineString([(0, 0), (1, 1), (0, 2), (2, 2), (3, 1), (1, 0)])\n",
        "# Положительное расстояние \"надувает\" объект, создавая буферный полигон вокруг объекта\n",
        "dilated = line.buffer(0.5)\n",
        "# Отрицательное расстояние \"сдувает\" объект, уменьшая полигон\n",
        "eroded = dilated.buffer(-0.3)\n",
        "# Также можно строить буферный полигон слева или справа от объекта\n",
        "left_hand_side = line.buffer(0.5, single_sided=True)\n",
        "right_hand_side = line.buffer(-0.3, single_sided=True)"
      ],
      "metadata": {
        "id": "Nw9XiooXsjCT"
      },
      "execution_count": null,
      "outputs": []
    },
    {
      "cell_type": "code",
      "source": [
        "# Нарисуем полученные полигоны\n",
        "import matplotlib.pyplot as plt\n",
        "\n",
        "list_of_elements = ['dilated', 'eroded', 'left_hand_side', 'right_hand_side']\n",
        "\n",
        "fig, axs = plt.subplots(1, len(list_of_elements), figsize=(15,3))\n",
        "\n",
        "for elem, index in zip(list_of_elements, list(range(len(list_of_elements)))):\n",
        "    # Рисуем периметр полигона\n",
        "    axs[index].plot(*eval(elem).exterior.xy, color='blue')\n",
        "    axs[index].set_title(str(f'{elem}'))\n",
        "    # Рисуем отверстия, если они есть внутри полигона\n",
        "    if eval(elem).interiors:\n",
        "    # Получаем координаты всех отверстий\n",
        "        for inner in eval(elem).interiors:\n",
        "            xi, yi = zip(*inner.coords[:])\n",
        "            axs[index].plot(xi, yi, color='blue')\n",
        "    # Дополнительно нарисуем оригинальную линию\n",
        "    axs[index].plot(*line.xy, color='red')\n",
        "    axs[index].axis(\"off\")"
      ],
      "metadata": {
        "colab": {
          "base_uri": "https://localhost:8080/",
          "height": 290
        },
        "id": "QmsZGxIxspQQ",
        "outputId": "0b048344-9d53-4837-b272-e8342b6f5946"
      },
      "execution_count": null,
      "outputs": [
        {
          "output_type": "display_data",
          "data": {
            "text/plain": [
              "<Figure size 1500x300 with 4 Axes>"
            ],
            "image/png": "[encoded data removed]"
          },
          "metadata": {}
        }
      ]
    },
    {
      "cell_type": "code",
      "source": [
        "# Из точек делаем круги через буфер\n",
        "a = Point(1, 1).buffer(1.5)\n",
        "b = Point(2, 1).buffer(1.5)\n",
        "# Находим разницу геометрий a & b\n",
        "c = a.difference(b)\n",
        "c"
      ],
      "metadata": {
        "colab": {
          "base_uri": "https://localhost:8080/",
          "height": 122
        },
        "id": "8DUj1TWo5jyb",
        "outputId": "a0e9209b-3d81-4a62-df1b-b505548bbf39"
      },
      "execution_count": null,
      "outputs": [
        {
          "output_type": "execute_result",
          "data": {
            "text/plain": [
              "<POLYGON ((1.435 -0.435, 1.293 -0.471, 1.147 -0.493, 1 -0.5, 0.853 -0.493, 0...>"
            ],
            "image/svg+xml": "<svg xmlns=\"http://www.w3.org/2000/svg\" xmlns:xlink=\"http://www.w3.org/1999/xlink\" width=\"100.0\" height=\"100.0\" viewBox=\"-0.62 -0.62 2.24 3.24\" preserveAspectRatio=\"xMinYMin meet\"><g transform=\"matrix(1,0,0,-1,0,2.0)\"><path fill-rule=\"evenodd\" fill=\"#66cc99\" stroke=\"#555555\" stroke-width=\"0.06480000000000001\" opacity=\"0.6\" d=\"M 1.4354270158816935,-0.43541050359831335 L 1.2926354830241924,-0.47117792060484565 L 1.147025710494341,-0.4927770900082953 L 1.0,-0.5 L 0.852974289505659,-0.4927770900082953 L 0.7073645169758077,-0.47117792060484565 L 0.5645729841183067,-0.43541050359831335 L 0.42597485145236536,-0.38581929876693 L 0.29290489476100345,-0.32288189652253263 L 0.16664465047059707,-0.24720441845381824 L 0.04841007375453188,-0.15951568004410577 L -0.06066017177982119,-0.060660171779821415 L -0.15951568004410555,0.04841007375453177 L -0.24720441845381802,0.16664465047059673 L -0.3228818965225324,0.29290489476100323 L -0.38581929876693,0.42597485145236513 L -0.43541050359831335,0.5645729841183065 L -0.47117792060484565,0.7073645169758072 L -0.4927770900082953,0.8529742895056588 L -0.5,0.9999999999999998 L -0.4927770900082953,1.1470257104943409 L -0.47117792060484565,1.2926354830241924 L -0.43541050359831335,1.435427015881693 L -0.3858192987669302,1.5740251485476344 L -0.32288189652253263,1.7070951052389964 L -0.24720441845381824,1.8333553495294028 L -0.15951568004410577,1.951589926245468 L -0.060660171779821415,2.060660171779821 L 0.0484100737545311,2.159515680044105 L 0.16664465047059673,2.247204418453818 L 0.29290489476100323,2.3228818965225324 L 0.42597485145236447,2.38581929876693 L 0.5645729841183064,2.4354105035983133 L 0.7073645169758069,2.4711779206048456 L 0.8529742895056593,2.4927770900082953 L 0.9999999999999998,2.5 L 1.1470257104943402,2.4927770900082953 L 1.2926354830241924,2.4711779206048456 L 1.435427015881693,2.4354105035983133 L 1.4999999999999998,2.412305920438431 L 1.4259748514523645,2.38581929876693 L 1.2929048947610031,2.3228818965225324 L 1.1666446504705967,2.247204418453818 L 1.048410073754531,2.159515680044105 L 0.9393398282201786,2.060660171779821 L 0.8404843199558942,1.951589926245468 L 0.7527955815461818,1.8333553495294028 L 0.6771181034774674,1.7070951052389964 L 0.6141807012330698,1.5740251485476344 L 0.5645894964016867,1.435427015881693 L 0.5288220793951544,1.2926354830241924 L 0.5072229099917047,1.1470257104943409 L 0.5,0.9999999999999998 L 0.5072229099917047,0.8529742895056588 L 0.5288220793951544,0.7073645169758072 L 0.5645894964016867,0.5645729841183065 L 0.61418070123307,0.42597485145236513 L 0.6771181034774676,0.29290489476100323 L 0.752795581546182,0.16664465047059673 L 0.8404843199558945,0.04841007375453177 L 0.9393398282201788,-0.060660171779821415 L 1.0484100737545319,-0.15951568004410577 L 1.1666446504705972,-0.24720441845381824 L 1.2929048947610036,-0.32288189652253263 L 1.4259748514523654,-0.38581929876693 L 1.5000000000000002,-0.4123059204384313 L 1.4354270158816935,-0.43541050359831335 z\" /></g></svg>"
          },
          "metadata": {},
          "execution_count": 29
        }
      ]
    },
    {
      "cell_type": "code",
      "source": [
        "# Находим симметричную разницу геометрий a & b\n",
        "d = a.symmetric_difference(b)\n",
        "d"
      ],
      "metadata": {
        "id": "J_Q0mmPh236G",
        "colab": {
          "base_uri": "https://localhost:8080/",
          "height": 122
        },
        "outputId": "b910d8d3-5daa-401d-d6ae-6eaf46879ac2"
      },
      "execution_count": null,
      "outputs": [
        {
          "output_type": "execute_result",
          "data": {
            "text/plain": [
              "<MULTIPOLYGON (((1.574 -0.386, 1.707 -0.323, 1.833 -0.247, 1.952 -0.16, 2.06...>"
            ],
            "image/svg+xml": "<svg xmlns=\"http://www.w3.org/2000/svg\" xmlns:xlink=\"http://www.w3.org/1999/xlink\" width=\"100.0\" height=\"100.0\" viewBox=\"-0.66 -0.66 4.32 3.3200000000000003\" preserveAspectRatio=\"xMinYMin meet\"><g transform=\"matrix(1,0,0,-1,0,2.0)\"><g><path fill-rule=\"evenodd\" fill=\"#66cc99\" stroke=\"#555555\" stroke-width=\"0.0864\" opacity=\"0.6\" d=\"M 1.5740251485476349,-0.38581929876693 L 1.7070951052389967,-0.3228818965225324 L 1.8333553495294035,-0.2472044184538178 L 1.9515899262454681,-0.15951568004410555 L 2.0606601717798214,-0.06066017177982119 L 2.1595156800441053,0.04841007375453177 L 2.247204418453818,0.16664465047059673 L 2.3228818965225324,0.29290489476100356 L 2.38581929876693,0.42597485145236536 L 2.4354105035983133,0.5645729841183065 L 2.4711779206048456,0.7073645169758076 L 2.4927770900082953,0.8529742895056591 L 2.5,1.0 L 2.4927770900082953,1.1470257104943409 L 2.4711779206048456,1.292635483024193 L 2.4354105035983133,1.4354270158816937 L 2.38581929876693,1.5740251485476355 L 2.3228818965225324,1.7070951052389969 L 2.247204418453818,1.8333553495294033 L 2.159515680044105,1.951589926245469 L 2.060660171779821,2.0606601717798214 L 1.9515899262454683,2.1595156800441053 L 1.8333553495294028,2.2472044184538182 L 1.7070951052389964,2.3228818965225324 L 1.5740251485476349,2.38581929876693 L 1.4999999999999998,2.412305920438431 L 1.5645729841183065,2.4354105035983133 L 1.707364516975807,2.4711779206048456 L 1.8529742895056593,2.4927770900082953 L 1.9999999999999998,2.5 L 2.14702571049434,2.4927770900082953 L 2.2926354830241924,2.4711779206048456 L 2.435427015881693,2.4354105035983133 L 2.574025148547635,2.38581929876693 L 2.7070951052389964,2.3228818965225324 L 2.833355349529403,2.2472044184538182 L 2.951589926245468,2.1595156800441053 L 3.060660171779821,2.0606601717798214 L 3.159515680044105,1.951589926245469 L 3.247204418453818,1.8333553495294033 L 3.3228818965225324,1.7070951052389969 L 3.38581929876693,1.5740251485476355 L 3.4354105035983133,1.4354270158816937 L 3.4711779206048456,1.292635483024193 L 3.4927770900082953,1.1470257104943409 L 3.5,1.0 L 3.4927770900082953,0.8529742895056591 L 3.4711779206048456,0.7073645169758076 L 3.4354105035983133,0.5645729841183065 L 3.38581929876693,0.42597485145236536 L 3.3228818965225324,0.29290489476100356 L 3.247204418453818,0.16664465047059673 L 3.1595156800441053,0.04841007375453177 L 3.0606601717798214,-0.06066017177982119 L 2.951589926245468,-0.15951568004410555 L 2.8333553495294037,-0.2472044184538178 L 2.707095105238997,-0.3228818965225324 L 2.574025148547635,-0.38581929876693 L 2.4354270158816935,-0.43541050359831335 L 2.2926354830241924,-0.47117792060484565 L 2.1470257104943413,-0.4927770900082953 L 2.0,-0.5 L 1.8529742895056591,-0.4927770900082953 L 1.7073645169758076,-0.47117792060484565 L 1.5645729841183067,-0.43541050359831335 L 1.5000000000000002,-0.4123059204384313 L 1.5740251485476349,-0.38581929876693 z\" /><path fill-rule=\"evenodd\" fill=\"#66cc99\" stroke=\"#555555\" stroke-width=\"0.0864\" opacity=\"0.6\" d=\"M 1.4354270158816935,-0.43541050359831335 L 1.2926354830241924,-0.47117792060484565 L 1.147025710494341,-0.4927770900082953 L 1.0,-0.5 L 0.852974289505659,-0.4927770900082953 L 0.7073645169758077,-0.47117792060484565 L 0.5645729841183067,-0.43541050359831335 L 0.42597485145236536,-0.38581929876693 L 0.29290489476100345,-0.32288189652253263 L 0.16664465047059707,-0.24720441845381824 L 0.04841007375453188,-0.15951568004410577 L -0.06066017177982119,-0.060660171779821415 L -0.15951568004410555,0.04841007375453177 L -0.24720441845381802,0.16664465047059673 L -0.3228818965225324,0.29290489476100323 L -0.38581929876693,0.42597485145236513 L -0.43541050359831335,0.5645729841183065 L -0.47117792060484565,0.7073645169758072 L -0.4927770900082953,0.8529742895056588 L -0.5,0.9999999999999998 L -0.4927770900082953,1.1470257104943409 L -0.47117792060484565,1.2926354830241924 L -0.43541050359831335,1.435427015881693 L -0.3858192987669302,1.5740251485476344 L -0.32288189652253263,1.7070951052389964 L -0.24720441845381824,1.8333553495294028 L -0.15951568004410577,1.951589926245468 L -0.060660171779821415,2.060660171779821 L 0.0484100737545311,2.159515680044105 L 0.16664465047059673,2.247204418453818 L 0.29290489476100323,2.3228818965225324 L 0.42597485145236447,2.38581929876693 L 0.5645729841183064,2.4354105035983133 L 0.7073645169758069,2.4711779206048456 L 0.8529742895056593,2.4927770900082953 L 0.9999999999999998,2.5 L 1.1470257104943402,2.4927770900082953 L 1.2926354830241924,2.4711779206048456 L 1.435427015881693,2.4354105035983133 L 1.4999999999999998,2.412305920438431 L 1.4259748514523645,2.38581929876693 L 1.2929048947610031,2.3228818965225324 L 1.1666446504705967,2.247204418453818 L 1.048410073754531,2.159515680044105 L 0.9393398282201786,2.060660171779821 L 0.8404843199558942,1.951589926245468 L 0.7527955815461818,1.8333553495294028 L 0.6771181034774674,1.7070951052389964 L 0.6141807012330698,1.5740251485476344 L 0.5645894964016867,1.435427015881693 L 0.5288220793951544,1.2926354830241924 L 0.5072229099917047,1.1470257104943409 L 0.5,0.9999999999999998 L 0.5072229099917047,0.8529742895056588 L 0.5288220793951544,0.7073645169758072 L 0.5645894964016867,0.5645729841183065 L 0.61418070123307,0.42597485145236513 L 0.6771181034774676,0.29290489476100323 L 0.752795581546182,0.16664465047059673 L 0.8404843199558945,0.04841007375453177 L 0.9393398282201788,-0.060660171779821415 L 1.0484100737545319,-0.15951568004410577 L 1.1666446504705972,-0.24720441845381824 L 1.2929048947610036,-0.32288189652253263 L 1.4259748514523654,-0.38581929876693 L 1.5000000000000002,-0.4123059204384313 L 1.4354270158816935,-0.43541050359831335 z\" /></g></g></svg>"
          },
          "metadata": {},
          "execution_count": 30
        }
      ]
    },
    {
      "cell_type": "code",
      "source": [
        "# Объединяем две фигуры a & b\n",
        "e = a.union(b)\n",
        "e"
      ],
      "metadata": {
        "colab": {
          "base_uri": "https://localhost:8080/",
          "height": 122
        },
        "id": "Nm5Zdt6aF8SK",
        "outputId": "6c344b56-f86d-4e0e-c25b-85d320831746"
      },
      "execution_count": null,
      "outputs": [
        {
          "output_type": "execute_result",
          "data": {
            "text/plain": [
              "<POLYGON ((1.435 -0.435, 1.293 -0.471, 1.147 -0.493, 1 -0.5, 0.853 -0.493, 0...>"
            ],
            "image/svg+xml": "<svg xmlns=\"http://www.w3.org/2000/svg\" xmlns:xlink=\"http://www.w3.org/1999/xlink\" width=\"100.0\" height=\"100.0\" viewBox=\"-0.66 -0.66 4.32 3.3200000000000003\" preserveAspectRatio=\"xMinYMin meet\"><g transform=\"matrix(1,0,0,-1,0,2.0)\"><path fill-rule=\"evenodd\" fill=\"#66cc99\" stroke=\"#555555\" stroke-width=\"0.0864\" opacity=\"0.6\" d=\"M 1.4354270158816935,-0.43541050359831335 L 1.2926354830241924,-0.47117792060484565 L 1.147025710494341,-0.4927770900082953 L 1.0,-0.5 L 0.852974289505659,-0.4927770900082953 L 0.7073645169758077,-0.47117792060484565 L 0.5645729841183067,-0.43541050359831335 L 0.42597485145236536,-0.38581929876693 L 0.29290489476100345,-0.32288189652253263 L 0.16664465047059707,-0.24720441845381824 L 0.04841007375453188,-0.15951568004410577 L -0.06066017177982119,-0.060660171779821415 L -0.15951568004410555,0.04841007375453177 L -0.24720441845381802,0.16664465047059673 L -0.3228818965225324,0.29290489476100323 L -0.38581929876693,0.42597485145236513 L -0.43541050359831335,0.5645729841183065 L -0.47117792060484565,0.7073645169758072 L -0.4927770900082953,0.8529742895056588 L -0.5,0.9999999999999998 L -0.4927770900082953,1.1470257104943409 L -0.47117792060484565,1.2926354830241924 L -0.43541050359831335,1.435427015881693 L -0.3858192987669302,1.5740251485476344 L -0.32288189652253263,1.7070951052389964 L -0.24720441845381824,1.8333553495294028 L -0.15951568004410577,1.951589926245468 L -0.060660171779821415,2.060660171779821 L 0.0484100737545311,2.159515680044105 L 0.16664465047059673,2.247204418453818 L 0.29290489476100323,2.3228818965225324 L 0.42597485145236447,2.38581929876693 L 0.5645729841183064,2.4354105035983133 L 0.7073645169758069,2.4711779206048456 L 0.8529742895056593,2.4927770900082953 L 0.9999999999999998,2.5 L 1.1470257104943402,2.4927770900082953 L 1.2926354830241924,2.4711779206048456 L 1.435427015881693,2.4354105035983133 L 1.4999999999999998,2.412305920438431 L 1.5645729841183065,2.4354105035983133 L 1.707364516975807,2.4711779206048456 L 1.8529742895056593,2.4927770900082953 L 1.9999999999999998,2.5 L 2.14702571049434,2.4927770900082953 L 2.2926354830241924,2.4711779206048456 L 2.435427015881693,2.4354105035983133 L 2.574025148547635,2.38581929876693 L 2.7070951052389964,2.3228818965225324 L 2.833355349529403,2.2472044184538182 L 2.951589926245468,2.1595156800441053 L 3.060660171779821,2.0606601717798214 L 3.159515680044105,1.951589926245469 L 3.247204418453818,1.8333553495294033 L 3.3228818965225324,1.7070951052389969 L 3.38581929876693,1.5740251485476355 L 3.4354105035983133,1.4354270158816937 L 3.4711779206048456,1.292635483024193 L 3.4927770900082953,1.1470257104943409 L 3.5,1.0 L 3.4927770900082953,0.8529742895056591 L 3.4711779206048456,0.7073645169758076 L 3.4354105035983133,0.5645729841183065 L 3.38581929876693,0.42597485145236536 L 3.3228818965225324,0.29290489476100356 L 3.247204418453818,0.16664465047059673 L 3.1595156800441053,0.04841007375453177 L 3.0606601717798214,-0.06066017177982119 L 2.951589926245468,-0.15951568004410555 L 2.8333553495294037,-0.2472044184538178 L 2.707095105238997,-0.3228818965225324 L 2.574025148547635,-0.38581929876693 L 2.4354270158816935,-0.43541050359831335 L 2.2926354830241924,-0.47117792060484565 L 2.1470257104943413,-0.4927770900082953 L 2.0,-0.5 L 1.8529742895056591,-0.4927770900082953 L 1.7073645169758076,-0.47117792060484565 L 1.5645729841183067,-0.43541050359831335 L 1.5000000000000002,-0.4123059204384313 L 1.4354270158816935,-0.43541050359831335 z\" /></g></svg>"
          },
          "metadata": {},
          "execution_count": 31
        }
      ]
    },
    {
      "cell_type": "code",
      "source": [
        "# Строим полигон содержащий все наши точки\n",
        "MultiPoint([(0, 0), (1, 1), (1, -1), (1, 2)]).convex_hull"
      ],
      "metadata": {
        "colab": {
          "base_uri": "https://localhost:8080/",
          "height": 122
        },
        "id": "QjZZmO_B8D-w",
        "outputId": "38b3ee23-27f5-4b31-ecb7-35d20af6f2b7"
      },
      "execution_count": null,
      "outputs": [
        {
          "output_type": "execute_result",
          "data": {
            "text/plain": [
              "<POLYGON ((1 -1, 0 0, 1 2, 1 -1))>"
            ],
            "image/svg+xml": "<svg xmlns=\"http://www.w3.org/2000/svg\" xmlns:xlink=\"http://www.w3.org/1999/xlink\" width=\"100.0\" height=\"100.0\" viewBox=\"-0.12 -1.12 1.2400000000000002 3.24\" preserveAspectRatio=\"xMinYMin meet\"><g transform=\"matrix(1,0,0,-1,0,1.0)\"><path fill-rule=\"evenodd\" fill=\"#66cc99\" stroke=\"#555555\" stroke-width=\"0.06480000000000001\" opacity=\"0.6\" d=\"M 1.0,-1.0 L 0.0,0.0 L 1.0,2.0 L 1.0,-1.0 z\" /></g></svg>"
          },
          "metadata": {},
          "execution_count": 32
        }
      ]
    },
    {
      "cell_type": "code",
      "source": [
        "# Упрощаем круг до 8 угольника\n",
        "p = Point(0.0, 0.0)\n",
        "x = p.buffer(1.0)\n",
        "s = x.simplify(0.2, preserve_topology=False)\n",
        "s"
      ],
      "metadata": {
        "colab": {
          "base_uri": "https://localhost:8080/",
          "height": 122
        },
        "id": "qr4Oxd8l9JNh",
        "outputId": "bd66a414-18da-4107-8806-95dfc6e26ce0"
      },
      "execution_count": null,
      "outputs": [
        {
          "output_type": "execute_result",
          "data": {
            "text/plain": [
              "<POLYGON ((1 0, 0.707 -0.707, 0 -1, -0.707 -0.707, -1 0, -0.707 0.707, 0 1, ...>"
            ],
            "image/svg+xml": "<svg xmlns=\"http://www.w3.org/2000/svg\" xmlns:xlink=\"http://www.w3.org/1999/xlink\" width=\"100.0\" height=\"100.0\" viewBox=\"-1.08 -1.08 2.16 2.16\" preserveAspectRatio=\"xMinYMin meet\"><g transform=\"matrix(1,0,0,-1,0,0.0)\"><path fill-rule=\"evenodd\" fill=\"#66cc99\" stroke=\"#555555\" stroke-width=\"0.0432\" opacity=\"0.6\" d=\"M 1.0,0.0 L 0.7071067811865476,-0.7071067811865475 L 6.123233995736766e-17,-1.0 L -0.7071067811865475,-0.7071067811865476 L -1.0,-1.2246467991473532e-16 L -0.7071067811865477,0.7071067811865475 L -1.8369701987210297e-16,1.0 L 0.7071067811865474,0.7071067811865477 L 1.0,0.0 z\" /></g></svg>"
          },
          "metadata": {},
          "execution_count": 33
        }
      ]
    },
    {
      "cell_type": "markdown",
      "source": [
        "На этом закончим наше знакомство с основными элементами векторных геометрических объектов и библиотекой shapely."
      ],
      "metadata": {
        "id": "bfwfkYm-3yhO"
      }
    },
    {
      "cell_type": "code",
      "source": [],
      "metadata": {
        "id": "pPeMIeZcHq2j"
      },
      "execution_count": null,
      "outputs": []
    }
  ]
}